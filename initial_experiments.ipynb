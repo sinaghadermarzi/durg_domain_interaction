{
 "cells": [
  {
   "cell_type": "markdown",
   "metadata": {},
   "source": [
    "Through these experiments, we want to show two issues in studying interaction between drugs and domains.\n",
    "1. **First problem:** That when a drug interacts with a single-domain protein (with domain X), even if we correctly conclude that it interacts with domain X, It may not interact with another single domain protein that has domain X. This is easy to check using Data. For this, we need some negative interaction data and for that, we can go to affinity data.  \n",
    "2. **Second Problem:** is about multi-domain proteins and that is when a drug is interacting with a multi-domain protein (with domains X and Y), we can’t confidently say if this drug interacts with X or Y or both or either or neither meaning several cases are possible:  \n",
    "    - The drug interacts with protein because it interacts directly with X\n",
    "    - The drug interacts with protein because it interacts directly with Y\n",
    "    - The drug interacts with protein because X and Y are both present\n",
    "    - The drug interacts with protein because either of X or Y are present\n",
    "    - The drug interacts because X and Y are present and they are in certain configuration with respect to each other or other extrinsic properties of the protein besides existence of X and Y.\n",
    "    - The drug interacts for a completely irrelevant reason to existence of X or Y. \n",
    "    \n",
    "There might be some overlap between the problem-1 and problem-2. But conceptually, we can say that first problem arises when trying to go from a drug-domain interaction to drug-protein interaction and the second problem arises when we go in the reverse direction. We want to see if we can quantitatively assess how prevalent these problems are or at least illuminate them as much as possible."
   ]
  },
  {
   "cell_type": "markdown",
   "metadata": {},
   "source": [
    "# from positive interactions to negative\n",
    "This means we infer drug-domain interactions from drug interactions of single domain proteins, and then find examples where the same domain occurs in other proteins but doesn't interact with same drugs (we have a negative interaction for it in our dataset). for this, the negative interactions are very important. common drug-target interaction databases only have positive interactions and they assume lack of a pair in the dataset to mean lack of interaction, which is obviously not correct. However there are some researches that also collect negative interaction data like [Coelho2016](https://doi.org/10.1371/journal.pcbi.1005219) where they have used affinity data to extract some negative interactions"
   ]
  },
  {
   "cell_type": "markdown",
   "metadata": {},
   "source": [
    "# First attempt using Coelho2016 datset\n",
    "This dataset is based on [Coelho2016](https://doi.org/10.1371/journal.pcbi.1005219) paper and contains negative and positive interactions. Negative interactions are extracted from BindingDB and BioLip databases, even though BioLip is questionable as a source of negative interactions because it is extracted from strucutres of drug-target complexes in the PDB, while we are more interested in those based on chemical assays.\n",
    "To use this dataset to search for cases of problem-1, we create a table where for each pair of drug D and proteins P, where the protein is single-domain M, we list all other proteins Q that have the same domain M and divide them into three groups:\n",
    "1. **Pos:** those that there is a positive interaction in the dataset between Q and D\n",
    "1. **Neg:** those that there is a negative interaction in the dataset between Q and D\n",
    "1. **Unk:** those that there is no interaction information in the dataset between Q and D"
   ]
  },
  {
   "cell_type": "code",
   "execution_count": 28,
   "metadata": {},
   "outputs": [],
   "source": [
    "\n",
    "#first we read the dataset and \n",
    "\n",
    "interacts = dict() # for each pair in the dataset (key),  it shows the annotations True/False (interaction/non-interaction) if it exists in the dataset. we basically store all dataset infromation here.\n",
    "uniprot_ids = set() # set of uniprot IDs for the purpose of collecting their pfam domain annotations\n",
    "drugsof= dict() # we want positive interactions for single domain proteins so we store them here to be readily available\n",
    "\n",
    "import pandas\n",
    "for f in [\"drugbank_DTIs_REAL_NEGS.txt\",\"test_data_sc_and_bc.txt\",\"yamanishi_DTIs_REAL_NEGS.txt\"]:\n",
    "    df = pandas.read_csv(\"DTIPred/\"+f, sep = \"\\t\", header = None)\n",
    "    for index , row in df.iterrows():\n",
    "        pid  = row[0]\n",
    "        did  = row[1]\n",
    "        interaction_exist  = row[2]\n",
    "        uniprot_ids.add(pid)\n",
    "#         if (pid,did) in interacts:\n",
    "#             if (interacts[(pid,did)] != interaction_exist):\n",
    "#                 print (\"error repeat\", (pid,did))\n",
    "#         else:\n",
    "        interacts[(pid,did)] = interaction_exist \n",
    "        if interaction_exist == 1:               \n",
    "            if pid in drugsof:\n",
    "                drugsof[pid].append(did)\n",
    "            else:\n",
    "                drugsof[pid] = [did]\n",
    "        \n",
    "with open (\"DTIPred/uniprotids.txt\", \"w\") as pf:\n",
    "    pf.writelines(\"\\n\".join(uniprot_ids))\n",
    "    \n",
    "        \n",
    "        "
   ]
  },
  {
   "cell_type": "code",
   "execution_count": 42,
   "metadata": {},
   "outputs": [],
   "source": [
    "\n",
    "# here, we read the domain annotations we have downloaded from uniprot.\n",
    "\n",
    "import pandas\n",
    "\n",
    "def extract_items(field):\n",
    "    if \";\" not in field:\n",
    "        return []\n",
    "    else:\n",
    "        spl = field.split(\";\")\n",
    "        for s in spl:\n",
    "            if len(s) <=1:\n",
    "#                 print(s)\n",
    "                spl.remove(s)\n",
    "        return spl\n",
    "\n",
    "proteinswith = dict() #for each domain (pfam ID), this will store the set of proteins (uniprot IDs) that have this domain\n",
    "domainsof  = dict () #for each protein (uniprot ID), this will store the list of domains (pfam IDs) of that protein\n",
    "df = pandas.read_csv(\"DTIPred/uniprotids_annnots.tab\", sep = \"\\t\", converters={i: str for i in range(100)})\n",
    "\n",
    "for index , row in df.iterrows():\n",
    "    domain_field = row [\"Cross-reference (Pfam)\"]\n",
    "    pid = row[\"yourlist:M20210201A94466D2655679D1FD8953E075198DA83D46A3C\"]    \n",
    "    if True: #conditions for considering a protien such as being human protein or being reviewed\n",
    "            domain_list = extract_items(domain_field)\n",
    "            domainsof[pid]= domain_list \n",
    "            for dom  in domain_list:\n",
    "                if dom in proteinswith:\n",
    "                    proteinswith[dom].append(pid)\n",
    "                else:\n",
    "                    proteinswith[dom]= [pid]\n",
    "        \n",
    "    \n",
    "num_domains = {x:len(domainsof[x]) for x in domainsof.keys()}\n",
    "one_domain = [x for x in domainsof.keys() if len(domainsof[x])==1]"
   ]
  },
  {
   "cell_type": "code",
   "execution_count": null,
   "metadata": {},
   "outputs": [],
   "source": [
    "\n",
    "# here we do the calculations, meaning we prepare the table consisting of pairs of single domain proteins (P) and interacting drugs (D) the number of proteins falling to each of the three groups and the ID of these proteins are stored in the next columns\n",
    "\n",
    "drug_level_examples = \"onedomain-protein,domain,interacting_drug,num_pos,num_neg,num_unk,pos,neg,unk\\n\"\n",
    "protein_level_exmples  = \"\"\n",
    "\n",
    "\n",
    "for p in one_domain:\n",
    "    m = domainsof[p][0]\n",
    "    Q_set = proteinswith[m].copy()\n",
    "    if p in Q_set:\n",
    "        Q_set.remove(p)        \n",
    "    if p in drugsof:\n",
    "        D_set = drugsof[p]\n",
    "        for d in D_set:\n",
    "            negs = []\n",
    "            pos = []\n",
    "            unk= []\n",
    "            for q in Q_set:\n",
    "                if (q,d) in interacts:\n",
    "                    if interacts[(q,d)]==1:\n",
    "                        pos.append(q)\n",
    "                    else:\n",
    "                        negs.append(q)\n",
    "                else:\n",
    "                    unk.append(q)\n",
    "            row_str= \",\".join ([p,m,d,str(len(pos)),str(len(negs)),str(len(unk)),\";\".join(pos), \";\".join(negs), \";\".join(unk)])+\"\\n\"\n",
    "            drug_level_examples+= row_str\n",
    "            \n",
    "with open(\"result_drug_level.csv\",\"w\") as outf:\n",
    "    outf.writelines(drug_level_examples)\n",
    "    "
   ]
  },
  {
   "cell_type": "markdown",
   "metadata": {},
   "source": [
    "The result of this experiments showed that we couldn't find occurance of the problem-1 with this dataset. This can be due to small number of negative interactions that we have which can be due the the dataset being old. Therefore, we recollect the negative interactions from BindingDB to do this experiment again."
   ]
  },
  {
   "cell_type": "markdown",
   "metadata": {},
   "source": [
    "# Second attempt using BindingDB\n",
    "we downloaded the BindingDB in tsv format. There were few issues here. First of all, for affinity, there are several measures here including Ki, Kd, IC50, and EC50. The literature that use affinity to obtain negative interactions don't clarfiy which of these measures they have used except one preprint that says they use Ki or IC50, even though based on a search that I did Kd is the most relevant measure for durg binding to proteins. \n",
    "Another problem is that some of the rows (interactions) in the bindingDB don't have a uniprot ID or have multiple chains. these cases altogether constitute less than 13% of interactions in the dataset. So for now, we ignore them because it makes the life much easier. "
   ]
  },
  {
   "cell_type": "code",
   "execution_count": 6,
   "metadata": {},
   "outputs": [
    {
     "name": "stderr",
     "output_type": "stream",
     "text": [
      "b'Skipping line 896772: expected 193 fields, saw 205\\nSkipping line 896798: expected 193 fields, saw 205\\n'\n",
      "b'Skipping line 929491: expected 193 fields, saw 205\\n'\n",
      "b'Skipping line 952161: expected 193 fields, saw 265\\n'\n",
      "b'Skipping line 1355895: expected 193 fields, saw 241\\n'\n",
      "b'Skipping line 1469800: expected 193 fields, saw 241\\nSkipping line 1469801: expected 193 fields, saw 241\\nSkipping line 1469802: expected 193 fields, saw 241\\nSkipping line 1469803: expected 193 fields, saw 241\\nSkipping line 1469804: expected 193 fields, saw 241\\nSkipping line 1469805: expected 193 fields, saw 241\\nSkipping line 1469806: expected 193 fields, saw 241\\nSkipping line 1469807: expected 193 fields, saw 241\\nSkipping line 1469808: expected 193 fields, saw 241\\n'\n",
      "b'Skipping line 1483073: expected 193 fields, saw 205\\n'\n",
      "b'Skipping line 1502296: expected 193 fields, saw 241\\nSkipping line 1502297: expected 193 fields, saw 241\\nSkipping line 1502298: expected 193 fields, saw 241\\nSkipping line 1502299: expected 193 fields, saw 241\\nSkipping line 1502300: expected 193 fields, saw 241\\nSkipping line 1502301: expected 193 fields, saw 241\\nSkipping line 1502302: expected 193 fields, saw 241\\nSkipping line 1502303: expected 193 fields, saw 241\\nSkipping line 1502304: expected 193 fields, saw 241\\n'\n",
      "b'Skipping line 1541474: expected 193 fields, saw 205\\n'\n",
      "b'Skipping line 1927945: expected 193 fields, saw 265\\n'\n",
      "b'Skipping line 2015166: expected 193 fields, saw 265\\nSkipping line 2015167: expected 193 fields, saw 265\\nSkipping line 2015168: expected 193 fields, saw 265\\nSkipping line 2015169: expected 193 fields, saw 265\\nSkipping line 2015170: expected 193 fields, saw 265\\nSkipping line 2015171: expected 193 fields, saw 265\\nSkipping line 2015172: expected 193 fields, saw 265\\nSkipping line 2015173: expected 193 fields, saw 265\\nSkipping line 2015174: expected 193 fields, saw 265\\nSkipping line 2015175: expected 193 fields, saw 265\\nSkipping line 2015176: expected 193 fields, saw 265\\nSkipping line 2015177: expected 193 fields, saw 265\\nSkipping line 2015178: expected 193 fields, saw 265\\nSkipping line 2015179: expected 193 fields, saw 265\\nSkipping line 2015180: expected 193 fields, saw 265\\nSkipping line 2015181: expected 193 fields, saw 265\\nSkipping line 2015182: expected 193 fields, saw 265\\nSkipping line 2015183: expected 193 fields, saw 265\\nSkipping line 2015184: expected 193 fields, saw 265\\n'\n",
      "b'Skipping line 2015802: expected 193 fields, saw 265\\nSkipping line 2015803: expected 193 fields, saw 265\\nSkipping line 2015804: expected 193 fields, saw 265\\nSkipping line 2015805: expected 193 fields, saw 265\\nSkipping line 2015806: expected 193 fields, saw 265\\nSkipping line 2015807: expected 193 fields, saw 265\\nSkipping line 2015808: expected 193 fields, saw 265\\n'\n",
      "b'Skipping line 2027219: expected 193 fields, saw 265\\nSkipping line 2027220: expected 193 fields, saw 265\\nSkipping line 2027221: expected 193 fields, saw 265\\nSkipping line 2027222: expected 193 fields, saw 265\\nSkipping line 2027223: expected 193 fields, saw 265\\nSkipping line 2027224: expected 193 fields, saw 265\\nSkipping line 2027225: expected 193 fields, saw 265\\nSkipping line 2027226: expected 193 fields, saw 265\\nSkipping line 2027227: expected 193 fields, saw 265\\nSkipping line 2027228: expected 193 fields, saw 265\\nSkipping line 2027229: expected 193 fields, saw 265\\nSkipping line 2027230: expected 193 fields, saw 265\\nSkipping line 2027231: expected 193 fields, saw 265\\nSkipping line 2027232: expected 193 fields, saw 265\\nSkipping line 2027233: expected 193 fields, saw 265\\nSkipping line 2027234: expected 193 fields, saw 265\\nSkipping line 2027235: expected 193 fields, saw 265\\nSkipping line 2027236: expected 193 fields, saw 265\\nSkipping line 2027237: expected 193 fields, saw 265\\nSkipping line 2027238: expected 193 fields, saw 265\\nSkipping line 2027239: expected 193 fields, saw 265\\nSkipping line 2027240: expected 193 fields, saw 265\\nSkipping line 2027241: expected 193 fields, saw 265\\nSkipping line 2027242: expected 193 fields, saw 265\\nSkipping line 2027243: expected 193 fields, saw 265\\nSkipping line 2027244: expected 193 fields, saw 265\\nSkipping line 2027245: expected 193 fields, saw 265\\nSkipping line 2027246: expected 193 fields, saw 265\\nSkipping line 2027247: expected 193 fields, saw 265\\nSkipping line 2027248: expected 193 fields, saw 265\\nSkipping line 2027249: expected 193 fields, saw 265\\nSkipping line 2027250: expected 193 fields, saw 265\\nSkipping line 2027251: expected 193 fields, saw 265\\nSkipping line 2027252: expected 193 fields, saw 265\\nSkipping line 2027253: expected 193 fields, saw 265\\nSkipping line 2027254: expected 193 fields, saw 265\\nSkipping line 2027255: expected 193 fields, saw 265\\nSkipping line 2027256: expected 193 fields, saw 265\\nSkipping line 2027257: expected 193 fields, saw 265\\n'\n",
      "b'Skipping line 2029854: expected 193 fields, saw 265\\nSkipping line 2029855: expected 193 fields, saw 265\\nSkipping line 2029856: expected 193 fields, saw 265\\nSkipping line 2029857: expected 193 fields, saw 265\\nSkipping line 2029858: expected 193 fields, saw 265\\nSkipping line 2029859: expected 193 fields, saw 265\\nSkipping line 2029860: expected 193 fields, saw 265\\nSkipping line 2029861: expected 193 fields, saw 265\\n'\n",
      "b'Skipping line 2042409: expected 193 fields, saw 313\\n'\n",
      "b'Skipping line 2059953: expected 193 fields, saw 637\\n'\n"
     ]
    }
   ],
   "source": [
    "import pandas \n",
    "import numpy\n",
    "\n",
    "\n",
    "col_names = pandas.read_csv(\"data/BindingDB_All_2021m0.tsv/BindingDB_All.tsv\", sep = \"\\t\", nrows=0).columns\n",
    "# types_dict = {\"Ki (nM)\": float,\"Kd (nM)\": float,\"IC50 (nM)\": float,\"EC50 (nM)\": float}\n",
    "# types_dict.update({col: str for col in col_names if col not in types_dict})\n",
    "types_dict={col: str for col in col_names}\n",
    "\n",
    "df = pandas.read_csv(\"data/BindingDB_All_2021m0.tsv/BindingDB_All.tsv\", sep = \"\\t\",error_bad_lines=False,dtype=types_dict)\n",
    "single_chain_mask = df[\"Number of Protein Chains in Target (>1 implies a multichain complex)\"]==\"1\"\n",
    "hasswissprot_mask = numpy.logical_not(df[\"UniProt (SwissProt) Primary ID of Target Chain\"].isna())\n",
    "haspubchemcid_mask = numpy.logical_not(df[\"PubChem CID\"].isna())\n",
    "singlechain_idcomplete_mask  = single_chain_mask & hasswissprot_mask & haspubchemcid_mask"
   ]
  },
  {
   "cell_type": "markdown",
   "metadata": {},
   "source": [
    "## Selction of the measure and threshold for affinity\n",
    "We use the same criterion used in other papers for defining interactions and non-interactions:\n",
    "- noninteraction: Ki<1000nM or IC50<1000nM\n",
    "- interaction: Ki>30000nM or IC50>30000nM"
   ]
  },
  {
   "cell_type": "code",
   "execution_count": 7,
   "metadata": {},
   "outputs": [
    {
     "name": "stdout",
     "output_type": "stream",
     "text": [
      "number of rows with undecided binary interaction: 671858\n",
      "number of rows with conflicting binary interaction: 8\n"
     ]
    },
    {
     "data": {
      "text/plain": [
       "T    894796\n",
       "F    152399\n",
       "Name: bin_interaction, dtype: int64"
      ]
     },
     "execution_count": 7,
     "metadata": {},
     "output_type": "execute_result"
    }
   ],
   "source": [
    "import numpy\n",
    "\n",
    "interaction_threshold = 1000\n",
    "noninteraction_threshold = 30000\n",
    "\n",
    "def valid_number(x):\n",
    "    try:\n",
    "        if type(x) == str:\n",
    "            x = x.replace(\">\",\"\")\n",
    "            x = x.replace(\"<\",\"\")\n",
    "            x = x.replace(\" \",\"\")\n",
    "        a  = float(x)\n",
    "        if a == 0:\n",
    "            return False\n",
    "        return a\n",
    "    except:\n",
    "        return False\n",
    "\n",
    "easy_df = df.loc[singlechain_idcomplete_mask,:].copy()\n",
    "\n",
    "    \n",
    "bin_interaction = numpy.array([\"\"] * len (easy_df))\n",
    "\n",
    "Ki_col= easy_df[\"Ki (nM)\"].values \n",
    "Kd_col= easy_df[\"Ki (nM)\"].values \n",
    "IC50_col= easy_df[\"IC50 (nM)\"].values \n",
    "EC50_col= easy_df[\"EC50 (nM)\"].values \n",
    "\n",
    "conflict_rows = []\n",
    "incomplete_rows = []\n",
    "for i in range(len(easy_df)):\n",
    "    num_pdecisions = 0\n",
    "    num_ndecisions = 0\n",
    "    Ki = valid_number(Ki_col[i])\n",
    "    Kd = valid_number(Kd_col[i])\n",
    "    IC50 = valid_number(IC50_col[i])\n",
    "    EC50 = valid_number(EC50_col[i])\n",
    "\n",
    "        \n",
    "    if Ki:\n",
    "        if Ki < interaction_threshold:\n",
    "            bin_interaction[i] = True\n",
    "            num_pdecisions += 1\n",
    "        elif Ki> noninteraction_threshold:\n",
    "            bin_interaction[i] = False\n",
    "            num_ndecisions += 1\n",
    "#     if Kd:\n",
    "#         if Kd < interaction_threshold:\n",
    "#             bin_interaction[i] = True\n",
    "#             num_pdecisions += 1\n",
    "#         elif Kd > noninteraction_threshold:\n",
    "#             bin_interaction[i] = False\n",
    "#             num_ndecisions += 1\n",
    "    if IC50:\n",
    "        if IC50 < interaction_threshold:\n",
    "            bin_interaction[i] = True\n",
    "            num_pdecisions += 1\n",
    "        elif IC50 > noninteraction_threshold:\n",
    "            bin_interaction[i] = False\n",
    "            num_ndecisions += 1\n",
    "#     if EC50:\n",
    "#         if EC50 < interaction_threshold:\n",
    "#             bin_interaction[i] = True\n",
    "#             num_pdecisions += 1\n",
    "#         elif EC50> noninteraction_threshold:\n",
    "#             bin_interaction[i] = False\n",
    "#             num_ndecisions += 1\n",
    "    if (num_pdecisions>0) and (num_ndecisions>0) :\n",
    "        conflict_rows.append((i,num_pdecisions,num_ndecisions))\n",
    "        bin_interaction[i] = \"\"\n",
    "    if (num_ndecisions<1) and (num_pdecisions<1):\n",
    "        incomplete_rows.append(i)\n",
    "\n",
    "print(\"number of rows with undecided binary interaction:\", len(incomplete_rows))\n",
    "print(\"number of rows with conflicting binary interaction:\", len(conflict_rows))        \n",
    "easy_df[\"bin_interaction\"] = bin_interaction \n",
    "easy_df_easy_bin = easy_df.loc[easy_df[\"bin_interaction\"] != \"\" & ,[\"UniProt (SwissProt) Primary ID of Target Chain\",\"PubChem CID\",\"bin_interaction\"]].copy()\n",
    "easy_df_easy_bin[\"bin_interaction\"].value_counts()"
   ]
  },
  {
   "cell_type": "markdown",
   "metadata": {},
   "source": [
    "Here, we dump the list of proteins (uniprot IDs) so that we can go and download their pfam domains from the uniprot."
   ]
  },
  {
   "cell_type": "code",
   "execution_count": 8,
   "metadata": {},
   "outputs": [],
   "source": [
    "target_uniprots  = easy_df_easy_bin[\"UniProt (SwissProt) Primary ID of Target Chain\"].values\n",
    "unique_target_uniprots  = set(target_uniprots)\n",
    "# with open(\"unique_uniprots.txt\", \"w\") as outf:\n",
    "#     outf.writelines(\"\\n\".join(unique_target_uniprots))"
   ]
  },
  {
   "cell_type": "markdown",
   "metadata": {},
   "source": [
    "Or if we already have them we ignore this part and just read them from the downloaded file"
   ]
  },
  {
   "cell_type": "code",
   "execution_count": 10,
   "metadata": {},
   "outputs": [],
   "source": [
    "# we read the domain annotations we have downloaded from uniprot.\n",
    "\n",
    "import pandas\n",
    "\n",
    "def extract_items(field):\n",
    "    if \";\" not in field:\n",
    "        return []\n",
    "    else:\n",
    "        spl = field.split(\";\")\n",
    "        for s in spl:\n",
    "            if len(s) <=1:\n",
    "#                 print(s)\n",
    "                spl.remove(s)\n",
    "        return spl\n",
    "\n",
    "    \n",
    "    \n",
    "proteinswith = dict() #for each domain (pfam ID), this will store the set of proteins (uniprot IDs) that have this domain\n",
    "domainsof  = dict () #for each protein (uniprot ID), this will store the list of domains (pfam IDs) of that protein\n",
    "df = pandas.read_csv(\"temp/unique_uniprots_domains.tab\", sep = \"\\t\", converters={i: str for i in range(100)})\n",
    "\n",
    "for index , row in df.iterrows():\n",
    "    domain_field = row [\"Cross-reference (Pfam)\"]\n",
    "    pid = row[\"yourlist:M20210208A94466D2655679D1FD8953E075198DA843865FQ\"]    \n",
    "    if True: #conditions for considering a protien such as being human protein or being reviewed\n",
    "            domain_list = extract_items(domain_field)\n",
    "            domainsof[pid]= domain_list \n",
    "            for dom  in domain_list:\n",
    "                if dom in proteinswith:\n",
    "                    proteinswith[dom].append(pid)\n",
    "                else:\n",
    "                    proteinswith[dom]= [pid]\n",
    "        \n",
    "    \n",
    "num_domains = {x:len(domainsof[x]) for x in domainsof.keys()}\n",
    "one_domain = [x for x in domainsof.keys() if len(domainsof[x])==1]"
   ]
  },
  {
   "cell_type": "code",
   "execution_count": 12,
   "metadata": {},
   "outputs": [],
   "source": [
    "\n",
    "# here we do the calculations, meaning we prepare the table consisting of pairs of single domain proteins (P) and interacting drugs (D) the number of proteins falling to each of the three groups and the ID of these proteins are stored in the next columns\n",
    "\n",
    "drug_level_examples = \"onedomain-protein,domain,interacting_drug,num_pos,num_neg,num_unk,pos,neg,unk\\n\"\n",
    "protein_level_exmples  = \"\"\n",
    "\n",
    "\n",
    "\n",
    "#first we read the dataset and \n",
    "\n",
    "interacts = dict() # for each pair in the dataset (key),  it shows the annotations True/False (interaction/non-interaction) if it exists in the dataset. we basically store all dataset infromation here.\n",
    "uniprot_ids = set() # set of uniprot IDs for the purpose of collecting their pfam domain annotations\n",
    "drugsof= dict() # we want positive interactions for single domain proteins so we store them here to be readily available\n",
    "num_occurrance = dict()\n",
    "\n",
    "\n",
    "\n",
    "import pandas\n",
    "\n",
    "\n",
    "\n",
    "for index , row in easy_df_easy_bin.iterrows():\n",
    "    pid  = row[\"UniProt (SwissProt) Primary ID of Target Chain\"]\n",
    "    did  = row[\"PubChem CID\"]\n",
    "    interaction_exist  = row[\"bin_interaction\"]\n",
    "    uniprot_ids.add(pid)\n",
    "    if (pid,did) in interacts:\n",
    "        num_occurrance[(pid,did)] +=1\n",
    "    else:\n",
    "        interacts[(pid,did)] = interaction_exist\n",
    "        num_occurrance[(pid,did)] = 1\n",
    "        if interaction_exist == \"T\":\n",
    "            if (type(did)== str) and (type (pid)==str):\n",
    "                if pid in drugsof:\n",
    "                    drugsof[pid].add(did)\n",
    "                else:\n",
    "                    drugsof[pid] = set([did])\n",
    "        \n",
    "# with open (\"DTIPred/uniprotids.txt\", \"w\") as pf:\n",
    "#     pf.writelines(\"\\n\".join(uniprot_ids))\n",
    "    \n",
    "top_repetitions = sorted(num_occurrance.items(), key=lambda x: x[1], reverse=True)\n",
    "\n",
    "\n",
    "\n",
    "\n",
    "pdq_triples =[]\n",
    "\n",
    "for p in one_domain:\n",
    "    m = domainsof[p][0]\n",
    "    Q_set = proteinswith[m].copy()\n",
    "    if p in Q_set:\n",
    "        Q_set.remove(p)        \n",
    "    if p in drugsof:\n",
    "        D_set = drugsof[p]\n",
    "        for d in D_set:\n",
    "            negs = []\n",
    "            pos = []\n",
    "            unk= []\n",
    "            for q in Q_set:\n",
    "                if type(q)== float:\n",
    "                    print(\"error-q:\", q)\n",
    "                if (q,d) in interacts:\n",
    "                    if interacts[(q,d)]==\"T\":\n",
    "                        pos.append(q)\n",
    "                    else:\n",
    "                        pdq_triples.append((p,d,q)) \n",
    "                        negs.append(q)\n",
    "                else:\n",
    "                    unk.append(q)\n",
    "            if (type(p) == float):\n",
    "                print(\"error-p:\", p)\n",
    "            if (type(m) == float):\n",
    "                print(\"error-m:\", m)\n",
    "            if (type(d) == float):\n",
    "                print(\"error-d:\", d)                \n",
    "            row_str= \",\".join ([p,m,d,str(len(pos)),str(len(negs)),str(len(unk)),\";\".join(pos), \";\".join(negs), \";\".join(unk)])+\"\\n\"\n",
    "            drug_level_examples += row_str\n",
    "            \n",
    "with open(\"problem1examples_10_30.csv\",\"w\") as outf:\n",
    "    outf.writelines(drug_level_examples)\n",
    "    "
   ]
  },
  {
   "cell_type": "markdown",
   "metadata": {},
   "source": [
    "## Extra conditions\n",
    "Since we have come up with a lot of examples, we want to apply different extra conditions to farther filter the examples:\n",
    "There are few extrac conditions that comes to mind.\n",
    "1. more strict condition for being single domain (not more than 20 consecutive unannotated resideus)\n",
    "2. being human protein\n",
    "3. having pH and/or temperature annotation (and if still we have many examples, we can say temperature should be 37)\n",
    "\n",
    "in each case, we want to see how many examples will be left"
   ]
  },
  {
   "cell_type": "markdown",
   "metadata": {},
   "source": [
    "### more strict condition for being single-domain\n",
    "    "
   ]
  },
  {
   "cell_type": "code",
   "execution_count": 57,
   "metadata": {},
   "outputs": [],
   "source": [
    "import xmltodict\n",
    "from os import path\n",
    "\n",
    "import xml.etree.ElementTree as ET\n",
    "import requests\n",
    "\n",
    "template = 'http://pfam.xfam.org/protein/P09482?output=xml'\n",
    "\n",
    "domain_data_dir = \"temp/domain_details/\"\n",
    "\n",
    "blank_length_threshold = 20\n",
    "\n",
    "\n",
    "def pfam_record_dict(p):\n",
    "    p_path = domain_data_dir + p + \".xml\"\n",
    "    if not path.exist(p_path):\n",
    "        url = \"http://pfam.xfam.org/protein/\"+p+\"?output=xml\"\n",
    "        req = requests.get(url)\n",
    "        with open (domain_data_dir+prot+\".xml\",\"w\") as outf:\n",
    "            outf.writelines(req.text)\n",
    "            \n",
    "    with open(p_path) as pf:\n",
    "        p_dict = xmltodict.parse(pf.read())\n",
    "    return p_dict\n",
    "\n",
    "def pfam_domains(p):\n",
    "    p_dict = pfam_record_dict(p)\n",
    "    p_domains = p_dict[\"pfam\"][\"entry\"][\"matches\"][\"match\"]\n",
    "    return p_domains\n",
    "\n",
    "def specie_name(p):\n",
    "    p_dict  = pfam_record_dict(p)\n",
    "    return p_dict[\"pfam\"][\"entry\"][\"taxonomy\"][\"@species_name\"]\n",
    "\n",
    "\n",
    "def is_single_domain(p):\n",
    "    p_dict = pfam_record_dict(p)\n",
    "    p_seq  = p_dict[\"pfam\"][\"entry\"][\"sequence\"][\"#text\"]\n",
    "    p_len  = len (p_seq)\n",
    "    on_domain =[False]*p_len\n",
    "    p_domains = p_dict[\"pfam\"][\"entry\"][\"matches\"][\"match\"]\n",
    "    if type(p_domains) != list:\n",
    "        p_domains =[p_domains]\n",
    "    for dom in p_domains:\n",
    "        acc = dom[\"@accession\"]\n",
    "        # type = dom[\"@type\"]\n",
    "        begin = int(dom[\"location\"][\"@start\"])-1\n",
    "        end = int(dom[\"location\"][\"@end\"])-1\n",
    "        on_domain[begin:end]  = [True] * ((end-begin)+1)\n",
    "    streak = 0 \n",
    "    max_streak = 0\n",
    "    for i in range(p_len):\n",
    "        if on_domain[i]:\n",
    "            streak = 0            \n",
    "        else:\n",
    "            streak += 1\n",
    "            max_streak  = max(streak, max_streak)\n",
    "            \n",
    "    if max_streak > blank_length_threshold:\n",
    "        return False\n",
    "    else:\n",
    "        return True\n",
    "    return on_domain\n"
   ]
  },
  {
   "cell_type": "code",
   "execution_count": 58,
   "metadata": {},
   "outputs": [],
   "source": [
    "single_domain_pdq_triples = []\n",
    "for (pp,dd,qq) in pdq_triples:\n",
    "    if is_single_domain(pp):\n",
    "        single_domain_pdq_triples.append((pp,dd,qq))"
   ]
  },
  {
   "cell_type": "code",
   "execution_count": 61,
   "metadata": {},
   "outputs": [
    {
     "data": {
      "text/plain": [
       "1459"
      ]
     },
     "execution_count": 61,
     "metadata": {},
     "output_type": "execute_result"
    }
   ],
   "source": [
    "len(single_domain_pdq_triples)"
   ]
  },
  {
   "cell_type": "markdown",
   "metadata": {},
   "source": [
    "### both proteins being a human protein"
   ]
  },
  {
   "cell_type": "code",
   "execution_count": 59,
   "metadata": {},
   "outputs": [],
   "source": [
    "single_domain_human_pdq_triples = []\n",
    "for (pp,dd,qq) in single_domain_pdq_triples:\n",
    "    if (specie_name(pp)==\"Homo sapiens (Human)\") and (specie_name(qq) == \"Homo sapiens (Human)\"):\n",
    "        single_domain_human_pdq_triples.append((pp,dd,qq))\n"
   ]
  },
  {
   "cell_type": "code",
   "execution_count": 60,
   "metadata": {},
   "outputs": [
    {
     "data": {
      "text/plain": [
       "923"
      ]
     },
     "execution_count": 60,
     "metadata": {},
     "output_type": "execute_result"
    }
   ],
   "source": [
    "len(single_domain_human_pdq_triples)"
   ]
  },
  {
   "cell_type": "markdown",
   "metadata": {},
   "source": [
    "## Createing report of found examples\n",
    "\n",
    "since we learned that even with imposing these restirctions, we have close to one thoasand examples left, we generate the report based on these examples\n"
   ]
  },
  {
   "cell_type": "code",
   "execution_count": 69,
   "metadata": {},
   "outputs": [],
   "source": [
    "import matplotlib.pyplot as plt\n",
    "import xmltodict\n",
    "import pandas\n",
    "import numpy\n",
    "\n",
    "\n",
    "class StringConverter(dict):\n",
    "    def __contains__(self, item):\n",
    "        return True\n",
    "    def __getitem__(self, item):\n",
    "        return str\n",
    "    def get(self, default=None):\n",
    "        return str\n",
    "\n",
    "\n",
    "\n",
    "domain_data_dir = \"temp/domain_details/\"\n",
    "shared_dom_col= (0,0.608,0.62,0.8)\n",
    "other_dom_col= (0.6,0.6,0.6,0.8)\n",
    "\n",
    "\n",
    "def visualize(p,q,shared_domain):\n",
    "    fig = plt.figure(figsize=[8, 2])\n",
    "    # text_ax = fig.add_subplot(211)\n",
    "    ax = fig.add_subplot(111)\n",
    "    # text_ax.spines[\"right\"].set_visible(False)\n",
    "    # text_ax.spines[\"left\"].set_visible(False)\n",
    "    # text_ax.spines[\"top\"].set_visible(False)\n",
    "    # text_ax.spines[\"bottom\"].set_visible(False)\n",
    "    # text_ax.get_yaxis().set_visible(False)\n",
    "    # text_ax.get_xaxis().set_visible(False)\n",
    "\n",
    "    p_path = domain_data_dir+p+\".xml\"\n",
    "    with open(p_path) as pf:\n",
    "        p_dict = xmltodict.parse(pf.read())\n",
    "    p_seq  = p_dict[\"pfam\"][\"entry\"][\"sequence\"][\"#text\"]\n",
    "    p_len  = len (p_seq)\n",
    "    ax.hlines(2, 0, p_len, linewidth=2, color=\"grey\")\n",
    "    p_domains = p_dict[\"pfam\"][\"entry\"][\"matches\"][\"match\"]\n",
    "    \n",
    "    if type(p_domains) != list:\n",
    "        p_domains =[p_domains]\n",
    "    for dom in p_domains:\n",
    "        acc = dom[\"@accession\"]\n",
    "        # type = dom[\"@type\"]\n",
    "        begin = int(dom[\"location\"][\"@start\"])\n",
    "        end = int(dom[\"location\"][\"@end\"])\n",
    "        #if pfam_A\n",
    "        if acc==shared_domain:\n",
    "            col = shared_dom_col\n",
    "        else:\n",
    "            col = other_dom_col\n",
    "        ax.hlines(2, begin, end, linewidth=10, color=col)\n",
    "\n",
    "    q_path = domain_data_dir + q + \".xml\"\n",
    "    with open(q_path) as qf:\n",
    "        q_dict = xmltodict.parse(qf.read())\n",
    "    q_seq = q_dict[\"pfam\"][\"entry\"][\"sequence\"][\"#text\"]\n",
    "    q_len = len(q_seq)\n",
    "    ax.hlines(1, 0, q_len, linewidth=2, color=\"grey\")\n",
    "    q_domains = q_dict[\"pfam\"][\"entry\"][\"matches\"][\"match\"]\n",
    "    if type(q_domains) != list:\n",
    "        q_domains =[q_domains]\n",
    "    for dom in q_domains:\n",
    "        acc = dom[\"@accession\"]\n",
    "        # type = dom[\"@type\"]\n",
    "        begin = int(dom[\"location\"][\"@start\"])\n",
    "        end = int(dom[\"location\"][\"@end\"])\n",
    "        # if pfam_A\n",
    "        if acc == shared_domain:\n",
    "            col = shared_dom_col\n",
    "        else:\n",
    "            col = other_dom_col\n",
    "        ax.hlines(1, begin, end, linewidth=10, color=col)\n",
    "\n",
    "    h_rng = float(max(p_len,q_len))\n",
    "    h_margin = h_rng/10\n",
    "    ax.set_xlim(-h_margin, h_rng+h_margin)\n",
    "    ax.set_ylim(0.5, 2.5)\n",
    "    # ax.get_yaxis().set_visible(False)\n",
    "    p_label = \"P [\"+p+\"]\"\n",
    "    q_label  = \"Q [\"+q+\"]\"\n",
    "    ax.set_yticks([1,2])\n",
    "    ax.set_yticklabels([q_label,p_label])\n",
    "    fig_fname =\"outputs/promissings/\"+p+\"_\"+d+\"_\"+q+\".svg\"\n",
    "    fig.suptitle(\"Domain: \" + shared_domain)\n",
    "    fig.savefig(fig_fname)\n",
    "    plt.close(fig)\n",
    "\n",
    "\n",
    "\n",
    "\n",
    "\n",
    "\n",
    "# col_names = pandas.read_csv(\"data/BindingDB_All_2021m0.tsv/BindingDB_All.tsv\", sep = \"\\t\", nrows=0).columns\n",
    "\n",
    "\n",
    "# df = pandas.read_csv(\"data/BindingDB_All_2021m0.tsv/BindingDB_All.tsv\", sep = \"\\t\",error_bad_lines=False,converters=StringConverter())\n",
    "useful_cols = [\"Ki (nM)\",\"Kd (nM)\",\"IC50 (nM)\",\"EC50 (nM)\",\"kon (M-1-s-1)\",\"koff (s-1)\",\"pH\",\"Temp (C)\"]\n",
    "mdfile = \"# Potential examples for problem 1:\\n\"\n",
    "\n",
    "\n",
    "for (p,d,q) in single_domain_human_pdq_triples:\n",
    "    m = domainsof[p][0]\n",
    "    visualize(p,q,m)\n",
    "    mdfile += \"## Interaction between domain \"+m+\" and drug \"+d+\"\\n\\n\"\n",
    "    p_rows_mask = (easy_df[\"UniProt (SwissProt) Primary ID of Target Chain\"] == p) & (easy_df[\"PubChem CID\"] == d)\n",
    "    q_rows_mask = (easy_df[\"UniProt (SwissProt) Primary ID of Target Chain\"] == q) & (easy_df[\"PubChem CID\"] == d)\n",
    "\n",
    "    p_rows = easy_df.loc[p_rows_mask, useful_cols].copy()\n",
    "    q_rows = easy_df.loc[q_rows_mask, useful_cols].copy()\n",
    "\n",
    "\n",
    "    mdfile += \"Single-domain protein (P) interacting with the drug: \" + p +\"\\n\\n\"\n",
    "    mdfile += p_rows.to_markdown(index = False)+\"\\n\\n\"\n",
    "\n",
    "\n",
    "    mdfile += \"Another (Q) protein with the same domain: \" + q +\"\\n\\n\"\n",
    "    mdfile += q_rows.to_markdown(index = False)+\"\\n\\n\"\n",
    "\n",
    "    mdfile += \"![](\"+p+\"_\"+d+\"_\"+q+\".svg)\\n\\n\"\n",
    "\n",
    "with open(\"outputs/promissings/doc.md\", \"w\") as outf:\n",
    "    outf.writelines(mdfile)\n",
    "\n",
    "\n"
   ]
  },
  {
   "cell_type": "markdown",
   "metadata": {},
   "source": [
    "# TRASH BELOW"
   ]
  },
  {
   "cell_type": "code",
   "execution_count": 48,
   "metadata": {},
   "outputs": [
    {
     "data": {
      "text/plain": [
       "1459"
      ]
     },
     "execution_count": 48,
     "metadata": {},
     "output_type": "execute_result"
    }
   ],
   "source": [
    "len(single_domain_pdq_triples)"
   ]
  },
  {
   "cell_type": "code",
   "execution_count": null,
   "metadata": {},
   "outputs": [],
   "source": [
    "pdq_triples = []"
   ]
  },
  {
   "cell_type": "code",
   "execution_count": 34,
   "metadata": {},
   "outputs": [
    {
     "data": {
      "text/plain": [
       "('P58154', '9836977', 'Q05941')"
      ]
     },
     "execution_count": 34,
     "metadata": {},
     "output_type": "execute_result"
    }
   ],
   "source": [
    "pdq_triples[0]"
   ]
  },
  {
   "cell_type": "code",
   "execution_count": 54,
   "metadata": {},
   "outputs": [],
   "source": [
    "single_domain_pdq_triples = []\n",
    "species = []\n",
    "for (pp,dd,qq) in pdq_triples:\n",
    "    dic = valid_single_domain(pp)\n",
    "    species.append(dic[\"pfam\"][\"entry\"][\"taxonomy\"][\"@species_name\"])\n"
   ]
  },
  {
   "cell_type": "code",
   "execution_count": 27,
   "metadata": {},
   "outputs": [],
   "source": [
    "a[1:3] = [True]* ((3-1)+1)"
   ]
  },
  {
   "cell_type": "code",
   "execution_count": 28,
   "metadata": {},
   "outputs": [
    {
     "data": {
      "text/plain": [
       "[False, True, True, True, False, False, False, False]"
      ]
     },
     "execution_count": 28,
     "metadata": {},
     "output_type": "execute_result"
    }
   ],
   "source": [
    "a"
   ]
  },
  {
   "cell_type": "code",
   "execution_count": 8,
   "metadata": {},
   "outputs": [
    {
     "data": {
      "text/plain": [
       "817123"
      ]
     },
     "execution_count": 8,
     "metadata": {},
     "output_type": "execute_result"
    }
   ],
   "source": [
    "\n",
    "deletions = set()\n",
    "for k in interacts:\n",
    "    if (type(k[0])!=str or type(k[1]) !=str):\n",
    "        deletions.add(k)\n",
    "for i in deletions:\n",
    "    del interacts[i]\n",
    "len(interacts)"
   ]
  },
  {
   "cell_type": "code",
   "execution_count": 7,
   "metadata": {},
   "outputs": [],
   "source": [
    "# a piece of code for checking and example\n",
    "# it takes a protein p and a protein q and a drug d and prints all rows with p and d and then all rows with q and d \n",
    "# the columns that we want are the \n",
    "p = \"P58154\"\n",
    "q = \"P09482\"\n",
    "d = \"86418\"\n",
    "useful_cols = [\"UniProt (SwissProt) Primary ID of Target Chain\",\"PubChem CID\",\"Ki (nM)\",\"Kd (nM)\",\"IC50 (nM)\",\"EC50 (nM)\",\"kon (M-1-s-1)\",\"koff (s-1)\",\"pH\",\"Temp (C)\"]\n",
    "\n",
    "##first print information about p \n",
    "p_rows = (df[\"UniProt (SwissProt) Primary ID of Target Chain\"]== p) & (df[\"PubChem CID\"]== d)\n",
    "first_row_number = numpy.nonzero(numpy.array(p_rows))[0]\n",
    "p_seq = df.loc[first_row_number,\"BindingDB Target Chain  Sequence\"].values[0]\n",
    "\n",
    "\n",
    "q_rows = (df[\"UniProt (SwissProt) Primary ID of Target Chain\"]== q) & (df[\"PubChem CID\"]== d)\n",
    "first_row_number = numpy.nonzero(numpy.array(q_rows))[0]\n",
    "q_seq = df.loc[first_row_number,\"BindingDB Target Chain  Sequence\"].values[0]\n",
    "\n",
    " \n"
   ]
  },
  {
   "cell_type": "code",
   "execution_count": 15,
   "metadata": {},
   "outputs": [
    {
     "name": "stdout",
     "output_type": "stream",
     "text": [
      "Downloading P53008,A0A144A2T4P24                                                                                                                                                                                                                                                                                                                                                                                                                                                                                                                                                                                                                                                                                                                                                                                                                                                                                                                                                                                                                                                                                                                                                                                                                                                                                                                                                                                                                                                                                                                                                                                                                                                                                                                                                                                                                                                                                                                                                                                                                                                                                                                                                                                                                                                                                                                                                                                                                                                                                                                                                                                                                                                                                                                                                                                                                                                                                                                                                                                                                                                                                                                                                                                                                                                                                                                                                                                                                                                                                                                                                                                                                                                                                                                                                                                                                                                                                                                                                                                                                                                                                                                                                                                                                                                                                                                                                                                                                                                                                                                                                                                                                                                                                                                                                                                                                                                                                                                                                                                                                                                                                                                                                                                                                                                                                                                                                                                                                                                                                                                                                                                                                                                                                                                                                                                                                                                                                                                                                                                                                                                                                                                                                                                                                                                                                                                                                                                                                                                                                                                                                                                                                                                                                                                                                                                                                                                                                                                                                                                                                                                                                                                                                                                                                                                                                                                                                                                                                                                                                                                                                                                                                                                                                                                                                                                                                                                                                                                                                                                                                                                                                                                                                                                                                                                                                                                                                                                                                                                                                                                                                                                                                                                                                                                                                                                                                                                                                                                                                                                                                                                                                                                                                                                                                                                                                                                                                                                                                                                                                                                                                                                                                                                                                                                                                                                                                                                                                                                                                                                                                                                                                                                                                                                                                                                                                                                                                                                                                                                                                                                                                                                                                                                                                                                                                                                                                                                                                                                                                                                                                                                                                                                                                                                                                                                                                                                                                                                                                                                                                                                                                                                                                                                                                                                                                                                                                                                                                                                                                                                                                                                                                                                                                                                                                                                                                                                                                                                                                                                                                                                                                                                                                                                                                                                                                                                                                                                                                                                                                                                                                                                                                                                                                                                                                                                                                                                                                                                                                                                                                                                                                                                                                                                                                                                                                                                                                                                                                                                                                                                                                                                                                                                                                                                                                                                                                                                                                                                                                                                                                                                                                                                                                                                                                                                                                                                                                                                                                                                                                                                                                                                                                                                                                                                                                                                                                                                                                                                                                                                                                                                                                                                                                                                                                                                                                                                                                                                                                                                                                                                                                                                                                                                                                                                                                                                                                                                                                                                                                                                                                                                                                                                                                                                                                                                                                                                                                                                                                                                                                                                                                                                                                                                                                                                                                                                                                                                                                                                                                                                                                                                                                                                                                                                                                                                                                                                                                                                                                                                                                                                                                                                                                                                                                                                                                                                                                                                                                                                                                                                                                                                                                                                                                                                                                                                                                                                                                                                                                                                                                                                                                                                                                                                                                                                                                                                                                                                                                                                                                                                                                                                                                                                                                                                                                                                                                                                                                                                                                                                                                                                                                                                                                                                                                                                                                                                                                                                                                                                                                                                                                                                                                                                                                                                                                                                                                                                                                                                                                                                                                                                                                                                                                                                                                                                                                                                                                                                                                                                                                                                                                                                                                                                                                                                                                                                                                                                                                                                                                                                                                                                                                                                                                                                                                                                                                                                                                                                                                                                                                                                                                                                                                                                                                                                                                                                                                                                                                                                                                                                                                                                                                                                                                                                                                                                                                                                                                                                                                                                                                                                                                                                                                                                                                                                                                                                                                                                                                                                                                                                                                                                                                                                                                                                                                                                                                                                                                                                                                                                                                                                                                                                                                                                                                                                                                                                                                                                                                                                                                                                                                                                                                                                                                                                                                                                                                                                                                                                                                                                                                                                                                                                                                                                                                                                                                                                                                                                                                                                                                                                                                                                                                                                                                                                                                                                                                                                                                                                                                                                                                                                                                                                                                                                                                                                                                                                                                                                                                                                                                                                                                                                                                                                                                                                                                                                                                                                                                                                                                                                                                                                                                                                                                                                                                                                                                                                                                                                                                                                                                                                                                                                                                                                                                                                                                                                                                                                                                                                                                                                                                                                                                                                                                                                                                                                                                                                                                                                                                                                                                                                                                                                                                                                                                                                                                                                                                                                                                                                                                                                                                                                                                                                                                                                                                                                                                                                                                                                                                                                                                                                                                                                                                                                                                                                                                                                                                                                                                                                                                                                                                                                                                                                                                                                                                                                                                                                                                                                                                                                                                                                                                                                                                                                                                                                                                                                                                                                                                                                                                                                                                                                                                                                                                                                                                                                                                                                                                                                                                                                                                                                                                                                                                                                                                                                                                                                                                                                                                                                                                                                                                                                                                                                                                                                                                                                                                                                                                                                                                                                                                                                                                                                                                                                                                                                                                                                                                                                                                                                                                                                                                                                                                                                                                                                                                                                                                                                                                                                                                                                                                                                                                                                                                                                                                                                                                                                                                                                                                                                                                                                                                                                                                                                                                                                                                                                                                                                                                                                                                                                                                                                                                                                                                                                                                                                                                                                                                                                                                                                                                                                                                                                                                                                                                                                                                                                                                                                                                                                                                                                                                                                                                                                                                                                                                                                                                                                                                                                                                                                                                                                                                                                                                                                                                                                                                                                                                                                                                                                                                                                                                                                                                                                                                                                                                                                                                                                                                                                                                                                                                                                                                                                                                                                                                                                                                                                                                                                                                                                                                                                                                                                                                                                                                                                                                                                                                                                                                                                                                                                                                                                                                                                                                                                                                                                                                                                                                                                                                                                                                                                                                                                                                                                                                                                                                                                                                                                                                                                                                                                                                                                                                                                                                                                                                                                                                                                                                                                                                                                                                                                                                                                                                                                                                                                                                                                                                                                                                                                                                                                                                                                                                                                                                                                                                                                                                                                                                                                                                                                                                                                                                                                                                                                                                                                                                                                                                                                                                                                                                                                                                                                                                                                                                                                                                                                                                                                                                                                                                                                                                                                                                                                                                                                                                                                                                                                                                                                                                                                                                                                                                                                                                                                                                                                                                                                                                                                                                                                                                                                                                                                                                                                                                                                                                                                                                                                                                                                                                                                                                                                                                                                                                                                                                                                                                                                                                                                                                                                                                                                                                                                                                                                                                                                                                                                                                                                                                                                                                                                                                                                                                                                                                                                                                                                                                                                                                                                                                                                                                                                                                                                                                                                                                                                                                                                                                                                                                                                                                                                                                                                                                                                                                                                                                                                                                                                                                                                                                                                                                                                                                                                                                                                                                                                                                                                                                                                                                                                                                                                                                                                                                                                                                                                                                                                                                                                                                                                                                                                                                                                                                                                                                                                                                                                                                                                                                                                                                                                                                                                                                                                                                                                                                                                                                                                                                                                                                                                                                                                                                                                                                                                                                                                                                                                                                                                                                                                                                                                                                                                                                                                                                                                                                                                                                                                                                                                                                                                                                                                                                                                                                                                                                                                                                                                                                                                                                                                                                                                                                                                                                                                                                                                                                                                                                                                                                                                                                                                                                                                                                                                                                                                                                                                                                                                                                                                                                                                                                                                                                                                                                                                                                                                                                                                                                                                                                                                                                                                                                                                                                                                                                                                                                                                                                                                                                                                                                                                                                                                                                                                                                                                                                                                                                                                                                                                                                                                                                                                                                                                                                                                                                                                                                                                                                                                                                                                                                                                                                                                                                                                                                                                                                                                                                                                                                                                                                                                                                                                                                                                                                                                                                                                                                                                                                                                                                                                                                                                                                                                                                                                                                                                                                                                                                                                                                                                                                                                                                                                                                                                                                                                                                                                                                                                                                                                                                                                                                                                                                                                                                                                                                                                                                                                                                                                                                                                                                                                                                                                                                                                                                                                                                                                                                                                                                                                                                                                                                                                                                                                                                                                                                                                                                                                                                                                                                                                                                                                                                                                                                                                                                                                                                                                                                                                                                                                                                                                                                                                                                                                                                                                                                                                                                                                                                                                                                                                                                                                                                                                                                                                                                                                                                                                                                                                                                                                                                                                                                                                                                                                                                                                                                                                                                                                                                                                                                                                                                                                                                                                                                                                                                                                                                                                                                                                                                                                                                                                                                                                                                                                                                                                                                                                                                                                                                                                                                                                                                                                                                                                                                                                                                                                                                                                                                                                                                                                                                                                                                                                                                                                                                                                                                                                                                                                                                                                                                                                                                                                                                                                                                                                                                                                                                                                                                                                                                                                                                                                                                                                                                                                                                                                                                                                                                                                                                                                                                                                                                                                                                                                                                                                                                                                                                                                                                                                                                                                                                                                                                                                                                                                                                                                                                                                                                                                                                                                                                                                                                                                                                                                                                                                                                                                                                                                                                                                                                                                                                                                                                                                                                                                                                                                                                                                                                                                                                                                                                                                                                                                                                                                                                                                                                                                                                                                                                                                                                                                                                                                                                                                                                                                                                                                                                                                                                                                                                                                                                                                                                                                                                                                                                                                                                                                                                                                                                                                                                                                                                                                                                                                                                                                                                                                                                                                                                                                                                                                                                                                                                                                                                                                                                                                                                                                                                                                                                                                                                                                                                                                                                                                                                                                                                                                                                                                                                                                                                                                                                                                                                                                                                                                                                                                                                                                                                                                                                                                                                                                                                                                                                                                                                                                                                                                                                                                                                                                                                                                                                                                                                                                                                                                                                                                                                                                                                                                                                                                                                                                                                                                                                                                                                                                                                                                                                                                                                                                                                                                                                                                                                                                                                                                                                                                                                                                                                                                                                                                                                                                                                                                                                                                                                                                                                                                                                                                                                                                                                                                                                                                                                                                                                                                                                                                                                                                                                                                                                                                                                                                                                                                                                                                                                                                                                                                                                                                                                                                                                                                                                                                                                                                                                                                                                                                                                                                                                                                                                                                                                                                                                                                                                                                                                                                                                                                                                                                                                                                                                                                                                                                                                                                                                                                                                                                                                                                                                                                                                                                                                                                                                                                                                                                                                                                                                                                                                                                                                                                                                                                                                                                                                                                                                                                                                                                                                                                                                                                                                                                                                                                                                                                                                                                                                                                                                                                                                                                                                                                                                                                                                                                                                                                                                                                                                                                                                                                                                                                                                                                                                                                                                                                                                                                                                                                                                                                                                                                                                                                                                                                                                                                                                                                                                                                                                                                                                                                                                                                                                                                                                                                                                                                                                                                                                                                                                                                                                                                                                                                                                                                                                                                                                                                                                                                                                                                                                                                                                                                                                                                                                                                                                                                                                                                                                                                                                                                                                                                                                                                                                                                                                                                                                                                                                                                                                                                                                                                                                                                                                                                                                                                                                                                                                                                                                                                                                                                                                                                                                                                                                                                                                                                                                                                                                                                                                                                                                                                                                                                                                                                                                                                                                                                                                                                                                                                                                                                                                                                                                                                                                                                                                                                                                                                                                                                                                                                                                                                                                                                                                                                                                                                                                                                                                                                                                                                                                                                                                                                                                                                                                                                                                                                                                                                                                                                                                                                                                                                                                                                                                                                                                                                                                                                                                                                                                                                                                                                                                                                                                                                                                                                                                                                                                                                                                                                                                                                                                                                                                                                                                                                                                                                                                                                                                                                                                                                                                                                                                                                                                                                                                                                                                                                                                                                                                                                                                                                                                                                                                                                                                                                                                                                                                                                                                                                                                                                                                                                                                                                                                                                                                                                                                                                                                                                                                                                                                                                                                                                                                                                                                                                                                                                                                                                                                                                                                                                                                                                                                                                                                                                                                                                                                                                                                                                                                                                                                                                                                                                                                                                                                                                                                                                                                                                                                                                                                                                                                                                                                                                                                                                                                                                                                                                                                                                                                                                                                                                                                                                                                                                                                                                                                                                                                                                                                                                                                                                                                                                                                                                                                                                                                                                                                                                                                                                                                                                                                                                                                                                                                                                                                                                                                                                                                                                                                                                                                                                                                                                                                                                                                                                                                                                                                                                                                                                                                                                                                                                                                                                                                                                                                                                                                                                                                                                                                                                                                                                                                                                                                                                                                                                                                                                                                                                                                                                                                                                                                                                                                                                                                                                                                                                                                                                                                                                                                                                                                                                                                                                                                                                                                                                                                                                                                                                                                                                                                                                                                                                                                                                                                                                                                                                                                                                                                                                                                                                                                                                                                                                                                                                                                                                                                                                                                                                                                                                                                                                                                                                                                                                                                                                                                                                                                                                                                                                                                                                                                                                                                                                                                                                                                                                                                                                                                                                                                                                                                                                                                                                                                                                                                                                                                                                                                                                                                                                                                                                                                                                                                                                                                                                                                                                                                                                                                                                                                                                                                                                                                                                                                                                                                                                                                                                                                                                                                                                                                                                                                                                                                                                                                                                                                                                                                                                                                                                                                                                                                                                                                                                                                                                                                                                                                                                                                                                                                                                                                                                                                                                                                                                                                                                                                                                                                                                                                                                                                                                                                                                                                                                                                                                                                                                                                                                                                                                                                                                                                                                                                                                                                                                                                                                                                                                                                                                                                                                                                                                                                                                                                                                                                                                                                                                                                                                                                                                                                                                                                                                                                                                                                                                                                                                                                                                                                                                                                                                                                                                                                                                                                                                                                                                                                                                                                                                                                                                                                                                                                                                                                                                                                                                                                                                                                                                                                                                                                                                                                                                                                                                                                                                                                                                                                                                                                                                                                                                                                                                                                                                                                                                                                                                                                                                                                                                                                                                                                                                                                                                                                                                                                                                                                                                                                                                                                                                                                                                                                                                                                                                                                                                                                                                                                                                                                                                                                                                                                                                                                                                                                                                                                                                                                                                                                                                                                                                                                                                                                                                                                                                                                                                                                                                                                                                                                                                                                                                                                                                                                                                                                                                                                                                                                                                                                                                                                                                                                                                                                                                                                                                                                                                                                                                                                                                                                                                                                                                                                                                                                                                                                                                                                                                                                                                                                                                                                                                                                                                                                                                                                                                                                                                                                                                                                                                                                                                                                                                                                                                                                                                                                                                                                                                                                                                                                                                                                                                                                                                                                                                                                                                                                                                                                                                                                                                                                                                                                                                                                                                                                                                                                                                                                                                                                                                                                                                                                                                                                                                                                                                                                                                                                                                                                                                                                                                                                                                                                                                                                                                                                                                                                                                                                                                                                                                                                                                                                                                                                                                                                                                                                                                                                                                                                                                                                                                                                                                                                                                                                                                                                                                                                                                                                                                                                                                                                                                                                                                                                                                                                                                                                                                                                                                                                                                                                                                                                                                                                                                                                                                                                                                                                                                                                                                                                                                                                                                                                                                                                                                                                                                                                                                                                                                                                                                                                                                                                                                                                                                                                                                                                                                                                                                                                                                                                                                                                                                                                                                                                                                                                                                                                                                                                                                                                                                                                                                                                                                                                                                                                                                                                                                                                                                                                                                                                                                                                                                                                                                                                                                                                                                                                                                                                                                                                                                                                                                                                                                                                                                                                                                                                                                                                                                                                                                                                                                                                                                                                                                                                                                                                                                                                                                                                                                                                                                                                                                                                                                                                                                                                                                                                                                                                                                                                                                                                                                                                                                                                                                                                                                                                                                                                                                                                                                                                                                                                                                                                                                                                                                                                                                                                                                                                                                                                                                                                                                                                                                                                                                                                                                                                                                                                                                                                                                                                                                                                                                                                                                                                                                                                                                                                                                                                                                                                                                                                                                                                                                                                                                                                                                                                                                                                                                                                                                                                                                                                                                                                                                                                                                                                                                                                                                                                                                                                                                                                                                                                                                                                                                                                                                                                                                                                                                                                                                                                                                                                                                                                                                                                                                                                                                                                                                                                                                                                                                                                                                                                                                                                                                                                                                                                                                                                                                                                                                                                                                                                                                                                                                                                                                                                                                                                                                                                                                                                                                                                                                                                                                                                                                                                                                                                                                                                                                                                                                                                                                                                                                                                                                                                                                                                                                                                                                                                                                                                                                                                                                                                                                                                                                                                                                                                                                                                                                                                                                                                                                                                                                                                                                                                                                                                                                                                                                                                                                                                                                                                                                                                                                                                                                                                                                                                                                                                                                                                                                                                                                                                                                                                                                                                                                                                                                                                                                                                                                                                                                                                                                                                                                                                                                                                                                                                                                                                                                                                                                                                                                                                                                                                                                                                                                                                                                                                                                                                                                                                                                                                                                                                                                                                                                                                                                                                                                                                                                                                                                                                                                                                                                                                                                                                                                                                                                                                                                                                                                                                                                                                                                                                                                                                                                                                                                                                                                                                                           "
     ]
    }
   ],
   "source": [
    "import xml.etree.ElementTree as ET\n",
    "import requests\n",
    "template = 'http://pfam.xfam.org/protein/P09482?output=xml'\n",
    "\n",
    "for prot in unique_target_uniprots:\n",
    "    print(\"                                       \\r\"+\"Downloading \"+prot, end  =\"\")\n",
    "    url = \"http://pfam.xfam.org/protein/\"+prot+\"?output=xml\"\n",
    "    req = requests.get(url)\n",
    "    with open (\"temp/domain_details/\"+prot+\".xml\",\"w\") as outf:\n",
    "        outf.writelines(req.text)\n",
    "    "
   ]
  },
  {
   "cell_type": "code",
   "execution_count": 122,
   "metadata": {},
   "outputs": [],
   "source": []
  },
  {
   "cell_type": "code",
   "execution_count": 123,
   "metadata": {},
   "outputs": [
    {
     "name": "stderr",
     "output_type": "stream",
     "text": [
      "<ipython-input-122-164c03218a96>:2: DeprecationWarning: This method will be removed in future versions.  Use 'list(elem)' or iteration over elem instead.\n",
      "  d = {t.tag : map(etree_to_dict, t.getchildren())}\n"
     ]
    }
   ],
   "source": [
    "import xml.etree.ElementTree as ET\n",
    "tree = ET.fromstring(req.text)\n",
    "# root.getchildren()\n",
    "# for child in root.iter(\"https://pfam.xfam.org/}pfam\"):\n",
    "#     print(child.tag,  child.text)\n",
    "dd = etree_to_dict(tree)"
   ]
  },
  {
   "cell_type": "code",
   "execution_count": null,
   "metadata": {},
   "outputs": [],
   "source": []
  },
  {
   "cell_type": "code",
   "execution_count": null,
   "metadata": {},
   "outputs": [],
   "source": []
  },
  {
   "cell_type": "code",
   "execution_count": null,
   "metadata": {},
   "outputs": [],
   "source": []
  },
  {
   "cell_type": "code",
   "execution_count": null,
   "metadata": {},
   "outputs": [],
   "source": []
  },
  {
   "cell_type": "code",
   "execution_count": 99,
   "metadata": {},
   "outputs": [
    {
     "name": "stdout",
     "output_type": "stream",
     "text": [
      "{https://pfam.xfam.org/}match {'accession': 'PF02931', 'id': 'Neur_chan_LBD', 'type': 'Pfam-A'}\n",
      "{https://pfam.xfam.org/}match {'accession': 'PF02932', 'id': 'Neur_chan_memb', 'type': 'Pfam-A'}\n"
     ]
    }
   ],
   "source": [
    "for node in root.findall(\".//{https://pfam.xfam.org/}match\"):\n",
    "    print(node.tag, node.attrib)"
   ]
  },
  {
   "cell_type": "code",
   "execution_count": 1,
   "metadata": {},
   "outputs": [],
   "source": [
    "import pandas\n",
    "\n",
    "def extract_items(field):\n",
    "    if \";\" not in field:\n",
    "        return []\n",
    "    else:\n",
    "        spl = field.split(\";\")\n",
    "        for s in spl:\n",
    "            if len(s) <=1:\n",
    "#                 print(s)\n",
    "                spl.remove(s)\n",
    "        return spl\n",
    "                \n",
    "    \n",
    "            \n",
    "    \n",
    "\n",
    "df = pandas.read_csv(\"uniprot.tab\", sep =\"\\t\",dtype=str)\n",
    "\n",
    "n_rows, n_cols  = df.shape\n",
    "\n",
    "uniprot_ids = df[\"Entry\"]\n",
    "pfam_ids = df[\"Cross-reference (Pfam)\"].astype(str).values\n",
    "chembl_ids = df[\"Cross-reference (ChEMBL)\"].astype(str).values\n",
    "\n",
    "domain_count = dict()\n",
    "drug_count = dict()\n",
    "\n",
    "\n",
    "for i in range (n_rows):\n",
    "    domain_list = extract_items(pfam_ids[i])\n",
    "    drug_list = extract_items(chembl_ids[i])\n",
    "    for dom in domain_list:\n",
    "        if dom in domain_count:\n",
    "            domain_count[dom] += 1\n",
    "        else:\n",
    "            domain_count[dom] = 1\n",
    "    \n",
    "    for drug in drug_list:\n",
    "        if drug in drug_count:\n",
    "            drug_count[drug] += 1\n",
    "        else:\n",
    "            drug_count[drug] = 1\n",
    "            \n",
    "    "
   ]
  },
  {
   "cell_type": "markdown",
   "metadata": {},
   "source": [
    "### Mapping human proteins to pfam domains and DrugBank drugs\n",
    "this allows us to study the prevalence of mullti-domain prorteins. Each multi-domain protein is a case where the problem two can happen. \n"
   ]
  },
  {
   "cell_type": "markdown",
   "metadata": {},
   "source": [
    "The above scripts allows us to count for each domain the number of proteins that have that domain\n",
    "we will follow the rest of the job later but for now we focus on the approach where affinity data are used for considering true negative interactinos."
   ]
  },
  {
   "cell_type": "code",
   "execution_count": 1,
   "metadata": {},
   "outputs": [
    {
     "name": "stdout",
     "output_type": "stream",
     "text": [
      "data  initial_experiments.ipynb  outputs  README.md  temp\n"
     ]
    }
   ],
   "source": [
    "!ls"
   ]
  },
  {
   "cell_type": "markdown",
   "metadata": {},
   "source": [
    "952161## Studying the first problem\n",
    "for this, we want to collect all human proteins and thier interactions, and look at all single-domain proteins and see the support and confidence for  association between domains and interactions. For a certain domain $\\text{M}$, the support will be the the fraction of human proteins that have domain $M$ and the confidene for a drug $D$ will be:\n",
    "\n",
    "$$ \\frac{\\text{Number of proteins that have $M$ and interact with $D$}}{\\text{Number of proteins with $M$}} $$"
   ]
  },
  {
   "cell_type": "markdown",
   "metadata": {},
   "source": [
    "### Using negative interactions to find examples of problem one\n",
    "\n",
    "Here we use a dataset from the [paper](https://doi.org/10.1371/journal.pcbi.1005219). In this paper they have used BindingDB and BioLIP to build a dataset of both positive and negative interactions between proteins and drugs. An affinity threshold have been used to consider them negative.\n",
    "\n",
    "After having negative interactions we need to find the cases where a drug interacts with a protein with only domain M but it doesn't interact with the many other proteins that have domain M \n",
    "\n",
    "to find these examples we devise an algorithm:\n",
    "\n",
    "   \n",
    "    for each domain M:\n",
    "        find all proteins that only have M as their domain and put them in set P\n",
    "        D = {}\n",
    "        for each protein p in P:\n",
    "            add to D all drugs that ineract with P\n",
    "        //on paper, since domain M interacts with all drugs in D, then all proteins with M should also interact with all drugs in D\n",
    "        for each drug d in D:\n",
    "        if any of the proteins Q in NEG(d) has domain D then save them save (p, M, q) in the set of couter examples\n",
    "\n",
    "\n",
    "so for this we need to have set of all domains and sort them based on frequency. \n",
    "for each domain we need all of the proteins that have it and for each protein \n",
    "            \n",
    "            \n",
    "        \n",
    "\n"
   ]
  }
 ],
 "metadata": {
  "kernelspec": {
   "display_name": "Python 3",
   "language": "python",
   "name": "python3"
  },
  "language_info": {
   "codemirror_mode": {
    "name": "ipython",
    "version": 3
   },
   "file_extension": ".py",
   "mimetype": "text/x-python",
   "name": "python",
   "nbconvert_exporter": "python",
   "pygments_lexer": "ipython3",
   "version": "3.8.5"
  }
 },
 "nbformat": 4,
 "nbformat_minor": 4
}
