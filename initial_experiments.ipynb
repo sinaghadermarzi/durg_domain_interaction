{
 "cells": [
  {
   "cell_type": "markdown",
   "metadata": {},
   "source": [
    "\n",
    "# Initial Experiments\n",
    "Through these experiments, we want to show two issues in studying interaction between drugs and domains.\n",
    "1. **First problem:** That when a drug interacts with a single-domain protein (with domain X), even if we correctly conclude that it interacts with domain X, It may not interact with another single domain protein that has domain X. This is easy to check using Data. For this, we need some negative interaction data and for that, we can go to affinity data.  \n",
    "2. **Second Problem:** is about multi-domain proteins and that is when a drug is interacting with a multi-domain protein (with domains X and Y), we can’t confidently say if this drug interacts with X or Y or both or either or neither meaning several cases are possible:  \n",
    "    - The drug interacts with protein because it interacts directly with X\n",
    "    - The drug interacts with protein because it interacts directly with Y\n",
    "    - The drug interacts with protein because X and Y are both present\n",
    "    - The drug interacts with protein because either of X or Y are present\n",
    "    - The drug interacts because X and Y are present and they are in certain configuration with respect to each other or other extrinsic properties of the protein besides existence of X and Y.\n",
    "    - The drug interacts for a completely irrelevant reason to existence of X or Y. \n",
    "    \n",
    "There might be some overlap between the problem-1 and problem-2. But conceptually, we can say that first problem arises when trying to go from a drug-domain interaction to drug-protein interaction and the second problem arises when we go in the reverse direction. We want to see if we can quantitatively assess how prevalent these problems are or at least illuminate them as much as possible."
   ]
  },
  {
   "cell_type": "markdown",
   "metadata": {},
   "source": [
    "## from positive interactions to negative\n",
    "This means we infer drug-domain interactions from drug interactions of single domain proteins, and then find examples where the same domain occurs in other proteins but doesn't interact with same drugs (we have a negative interaction for it in our dataset). for this, the negative interactions are very important. common drug-target interaction databases only have positive interactions and they assume lack of a pair in the dataset to mean lack of interaction, which is obviously not correct. However there are some researches that also collect negative interaction data like [Coelho2016](https://doi.org/10.1371/journal.pcbi.1005219) where they have used affinity data to extract some negative interactions"
   ]
  },
  {
   "cell_type": "markdown",
   "metadata": {},
   "source": [
    "### First attempt using Coelho2016 datset\n",
    "This dataset is based on [Coelho2016](https://doi.org/10.1371/journal.pcbi.1005219) paper and contains negative and positive interactions. Negative interactions are extracted from BindingDB and BioLip databases, even though BioLip is questionable as a source of negative interactions because it is extracted from strucutres of drug-target complexes in the PDB, while we are more interested in those based on chemical assays.\n",
    "To use this dataset to search for cases of problem-1, we create a table where for each pair of drug D and proteins P, where the protein is single-domain M, we list all other proteins Q that have the same domain M and divide them into three groups:\n",
    "1. **Pos:** those that there is a positive interaction in the dataset between Q and D\n",
    "1. **Neg:** those that there is a negative interaction in the dataset between Q and D\n",
    "1. **Unk:** those that there is no interaction information in the dataset between Q and D"
   ]
  },
  {
   "cell_type": "code",
   "execution_count": 28,
   "metadata": {},
   "outputs": [],
   "source": [
    "\n",
    "#first we read the dataset and \n",
    "\n",
    "interacts = dict() # for each pair in the dataset (key),  it shows the annotations True/False (interaction/non-interaction) if it exists in the dataset. we basically store all dataset infromation here.\n",
    "uniprot_ids = set() # set of uniprot IDs for the purpose of collecting their pfam domain annotations\n",
    "drugsof= dict() # we want positive interactions for single domain proteins so we store them here to be readily available\n",
    "\n",
    "import pandas\n",
    "for f in [\"drugbank_DTIs_REAL_NEGS.txt\",\"test_data_sc_and_bc.txt\",\"yamanishi_DTIs_REAL_NEGS.txt\"]:\n",
    "    df = pandas.read_csv(\"DTIPred/\"+f, sep = \"\\t\", header = None)\n",
    "    for index , row in df.iterrows():\n",
    "        pid  = row[0]\n",
    "        did  = row[1]\n",
    "        interaction_exist  = row[2]\n",
    "        uniprot_ids.add(pid)\n",
    "#         if (pid,did) in interacts:\n",
    "#             if (interacts[(pid,did)] != interaction_exist):\n",
    "#                 print (\"error repeat\", (pid,did))\n",
    "#         else:\n",
    "        interacts[(pid,did)] = interaction_exist \n",
    "        if interaction_exist == 1:               \n",
    "            if pid in drugsof:\n",
    "                drugsof[pid].append(did)\n",
    "            else:\n",
    "                drugsof[pid] = [did]\n",
    "        \n",
    "with open (\"DTIPred/uniprotids.txt\", \"w\") as pf:\n",
    "    pf.writelines(\"\\n\".join(uniprot_ids))\n",
    "    \n",
    "        \n",
    "        "
   ]
  },
  {
   "cell_type": "code",
   "execution_count": 42,
   "metadata": {},
   "outputs": [],
   "source": [
    "\n",
    "# here, we read the domain annotations we have downloaded from uniprot.\n",
    "\n",
    "import pandas\n",
    "\n",
    "def extract_items(field):\n",
    "    if \";\" not in field:\n",
    "        return []\n",
    "    else:\n",
    "        spl = field.split(\";\")\n",
    "        for s in spl:\n",
    "            if len(s) <=1:\n",
    "#                 print(s)\n",
    "                spl.remove(s)\n",
    "        return spl\n",
    "\n",
    "proteinswith = dict() #for each domain (pfam ID), this will store the set of proteins (uniprot IDs) that have this domain\n",
    "domainsof  = dict () #for each protein (uniprot ID), this will store the list of domains (pfam IDs) of that protein\n",
    "df = pandas.read_csv(\"DTIPred/uniprotids_annnots.tab\", sep = \"\\t\", converters={i: str for i in range(100)})\n",
    "\n",
    "for index , row in df.iterrows():\n",
    "    domain_field = row [\"Cross-reference (Pfam)\"]\n",
    "    pid = row[\"yourlist:M20210201A94466D2655679D1FD8953E075198DA83D46A3C\"]    \n",
    "    if True: #conditions for considering a protien such as being human protein or being reviewed\n",
    "            domain_list = extract_items(domain_field)\n",
    "            domainsof[pid]= domain_list \n",
    "            for dom  in domain_list:\n",
    "                if dom in proteinswith:\n",
    "                    proteinswith[dom].append(pid)\n",
    "                else:\n",
    "                    proteinswith[dom]= [pid]\n",
    "        \n",
    "    \n",
    "num_domains = {x:len(domainsof[x]) for x in domainsof.keys()}\n",
    "one_domain = [x for x in domainsof.keys() if len(domainsof[x])==1]"
   ]
  },
  {
   "cell_type": "code",
   "execution_count": null,
   "metadata": {},
   "outputs": [],
   "source": [
    "\n",
    "# here we do the calculations, meaning we prepare the table consisting of pairs of single domain proteins (P) and interacting drugs (D) the number of proteins falling to each of the three groups and the ID of these proteins are stored in the next columns\n",
    "\n",
    "drug_level_examples = \"onedomain-protein,domain,interacting_drug,num_pos,num_neg,num_unk,pos,neg,unk\\n\"\n",
    "protein_level_exmples  = \"\"\n",
    "\n",
    "\n",
    "for p in one_domain:\n",
    "    m = domainsof[p][0]\n",
    "    Q_set = proteinswith[m].copy()\n",
    "    if p in Q_set:\n",
    "        Q_set.remove(p)        \n",
    "    if p in drugsof:\n",
    "        D_set = drugsof[p]\n",
    "        for d in D_set:\n",
    "            negs = []\n",
    "            pos = []\n",
    "            unk= []\n",
    "            for q in Q_set:\n",
    "                if (q,d) in interacts:\n",
    "                    if interacts[(q,d)]==1:\n",
    "                        pos.append(q)\n",
    "                    else:\n",
    "                        negs.append(q)\n",
    "                else:\n",
    "                    unk.append(q)\n",
    "            row_str= \",\".join ([p,m,d,str(len(pos)),str(len(negs)),str(len(unk)),\";\".join(pos), \";\".join(negs), \";\".join(unk)])+\"\\n\"\n",
    "            drug_level_examples+= row_str\n",
    "            \n",
    "with open(\"result_drug_level.csv\",\"w\") as outf:\n",
    "    outf.writelines(drug_level_examples)\n",
    "    "
   ]
  },
  {
   "cell_type": "markdown",
   "metadata": {},
   "source": [
    "The result of this experiments showed that we couldn't find occurance of the problem-1 with this dataset. This can be due to small number of negative interactions that we have which can be due the the dataset being old. Therefore, we recollect the negative interactions from BindingDB to do this experiment again."
   ]
  },
  {
   "cell_type": "markdown",
   "metadata": {},
   "source": [
    "### Second attempt using BindingDB\n",
    "we downloaded the BindingDB in tsv format. There were few issues here. First of all, for affinity, there are several measures here including Ki, Kd, IC50, and EC50. The literature that use affinity to obtain negative interactions don't clarfiy which of these measures they have used except one preprint that says they use Ki or IC50, even though based on a search that I did Kd is the most relevant measure for durg binding to proteins. \n",
    "Another problem is that some of the rows (interactions) in the bindingDB don't have a uniprot ID or have multiple chains. these cases altogether constitute less than 13% of interactions in the dataset. So for now, we ignore them because it makes the life much easier. "
   ]
  },
  {
   "cell_type": "code",
   "execution_count": 2,
   "metadata": {},
   "outputs": [
    {
     "name": "stderr",
     "output_type": "stream",
     "text": [
      "b'Skipping line 896772: expected 193 fields, saw 205\\nSkipping line 896798: expected 193 fields, saw 205\\n'\n",
      "b'Skipping line 929491: expected 193 fields, saw 205\\n'\n",
      "b'Skipping line 952161: expected 193 fields, saw 265\\n'\n",
      "b'Skipping line 1355895: expected 193 fields, saw 241\\n'\n",
      "b'Skipping line 1469800: expected 193 fields, saw 241\\nSkipping line 1469801: expected 193 fields, saw 241\\nSkipping line 1469802: expected 193 fields, saw 241\\nSkipping line 1469803: expected 193 fields, saw 241\\nSkipping line 1469804: expected 193 fields, saw 241\\nSkipping line 1469805: expected 193 fields, saw 241\\nSkipping line 1469806: expected 193 fields, saw 241\\nSkipping line 1469807: expected 193 fields, saw 241\\nSkipping line 1469808: expected 193 fields, saw 241\\n'\n",
      "b'Skipping line 1483073: expected 193 fields, saw 205\\n'\n",
      "b'Skipping line 1502296: expected 193 fields, saw 241\\nSkipping line 1502297: expected 193 fields, saw 241\\nSkipping line 1502298: expected 193 fields, saw 241\\nSkipping line 1502299: expected 193 fields, saw 241\\nSkipping line 1502300: expected 193 fields, saw 241\\nSkipping line 1502301: expected 193 fields, saw 241\\nSkipping line 1502302: expected 193 fields, saw 241\\nSkipping line 1502303: expected 193 fields, saw 241\\nSkipping line 1502304: expected 193 fields, saw 241\\n'\n",
      "b'Skipping line 1541474: expected 193 fields, saw 205\\n'\n",
      "b'Skipping line 1927945: expected 193 fields, saw 265\\n'\n",
      "b'Skipping line 2015166: expected 193 fields, saw 265\\nSkipping line 2015167: expected 193 fields, saw 265\\nSkipping line 2015168: expected 193 fields, saw 265\\nSkipping line 2015169: expected 193 fields, saw 265\\nSkipping line 2015170: expected 193 fields, saw 265\\nSkipping line 2015171: expected 193 fields, saw 265\\nSkipping line 2015172: expected 193 fields, saw 265\\nSkipping line 2015173: expected 193 fields, saw 265\\nSkipping line 2015174: expected 193 fields, saw 265\\nSkipping line 2015175: expected 193 fields, saw 265\\nSkipping line 2015176: expected 193 fields, saw 265\\nSkipping line 2015177: expected 193 fields, saw 265\\nSkipping line 2015178: expected 193 fields, saw 265\\nSkipping line 2015179: expected 193 fields, saw 265\\nSkipping line 2015180: expected 193 fields, saw 265\\nSkipping line 2015181: expected 193 fields, saw 265\\nSkipping line 2015182: expected 193 fields, saw 265\\nSkipping line 2015183: expected 193 fields, saw 265\\nSkipping line 2015184: expected 193 fields, saw 265\\n'\n",
      "b'Skipping line 2015802: expected 193 fields, saw 265\\nSkipping line 2015803: expected 193 fields, saw 265\\nSkipping line 2015804: expected 193 fields, saw 265\\nSkipping line 2015805: expected 193 fields, saw 265\\nSkipping line 2015806: expected 193 fields, saw 265\\nSkipping line 2015807: expected 193 fields, saw 265\\nSkipping line 2015808: expected 193 fields, saw 265\\n'\n",
      "b'Skipping line 2027219: expected 193 fields, saw 265\\nSkipping line 2027220: expected 193 fields, saw 265\\nSkipping line 2027221: expected 193 fields, saw 265\\nSkipping line 2027222: expected 193 fields, saw 265\\nSkipping line 2027223: expected 193 fields, saw 265\\nSkipping line 2027224: expected 193 fields, saw 265\\nSkipping line 2027225: expected 193 fields, saw 265\\nSkipping line 2027226: expected 193 fields, saw 265\\nSkipping line 2027227: expected 193 fields, saw 265\\nSkipping line 2027228: expected 193 fields, saw 265\\nSkipping line 2027229: expected 193 fields, saw 265\\nSkipping line 2027230: expected 193 fields, saw 265\\nSkipping line 2027231: expected 193 fields, saw 265\\nSkipping line 2027232: expected 193 fields, saw 265\\nSkipping line 2027233: expected 193 fields, saw 265\\nSkipping line 2027234: expected 193 fields, saw 265\\nSkipping line 2027235: expected 193 fields, saw 265\\nSkipping line 2027236: expected 193 fields, saw 265\\nSkipping line 2027237: expected 193 fields, saw 265\\nSkipping line 2027238: expected 193 fields, saw 265\\nSkipping line 2027239: expected 193 fields, saw 265\\nSkipping line 2027240: expected 193 fields, saw 265\\nSkipping line 2027241: expected 193 fields, saw 265\\nSkipping line 2027242: expected 193 fields, saw 265\\nSkipping line 2027243: expected 193 fields, saw 265\\nSkipping line 2027244: expected 193 fields, saw 265\\nSkipping line 2027245: expected 193 fields, saw 265\\nSkipping line 2027246: expected 193 fields, saw 265\\nSkipping line 2027247: expected 193 fields, saw 265\\nSkipping line 2027248: expected 193 fields, saw 265\\nSkipping line 2027249: expected 193 fields, saw 265\\nSkipping line 2027250: expected 193 fields, saw 265\\nSkipping line 2027251: expected 193 fields, saw 265\\nSkipping line 2027252: expected 193 fields, saw 265\\nSkipping line 2027253: expected 193 fields, saw 265\\nSkipping line 2027254: expected 193 fields, saw 265\\nSkipping line 2027255: expected 193 fields, saw 265\\nSkipping line 2027256: expected 193 fields, saw 265\\nSkipping line 2027257: expected 193 fields, saw 265\\n'\n",
      "b'Skipping line 2029854: expected 193 fields, saw 265\\nSkipping line 2029855: expected 193 fields, saw 265\\nSkipping line 2029856: expected 193 fields, saw 265\\nSkipping line 2029857: expected 193 fields, saw 265\\nSkipping line 2029858: expected 193 fields, saw 265\\nSkipping line 2029859: expected 193 fields, saw 265\\nSkipping line 2029860: expected 193 fields, saw 265\\nSkipping line 2029861: expected 193 fields, saw 265\\n'\n",
      "b'Skipping line 2042409: expected 193 fields, saw 313\\n'\n",
      "b'Skipping line 2059953: expected 193 fields, saw 637\\n'\n"
     ]
    }
   ],
   "source": [
    "import pandas \n",
    "import numpy\n",
    "\n",
    "\n",
    "col_names = pandas.read_csv(\"data/BindingDB_All_2021m0.tsv/BindingDB_All.tsv\", sep = \"\\t\", nrows=0).columns\n",
    "# types_dict = {\"Ki (nM)\": float,\"Kd (nM)\": float,\"IC50 (nM)\": float,\"EC50 (nM)\": float}\n",
    "# types_dict.update({col: str for col in col_names if col not in types_dict})\n",
    "types_dict={col: str for col in col_names}\n",
    "\n",
    "df = pandas.read_csv(\"data/BindingDB_All_2021m0.tsv/BindingDB_All.tsv\", sep = \"\\t\",error_bad_lines=False,dtype=types_dict)\n",
    "single_chain_mask = df[\"Number of Protein Chains in Target (>1 implies a multichain complex)\"]==\"1\"\n",
    "hasswissprot_mask = numpy.logical_not(df[\"UniProt (SwissProt) Primary ID of Target Chain\"].isna())\n",
    "num_singlechain_interactions  = len(df.loc[single_chain_mask,:])\n",
    "num_all_interactions = len(df)\n",
    "singlechain_interactions_with_swissprot_id_mask  = single_chain_mask & hasswissprot_mask\n",
    "num_singlechain_interactions_with_swissprot_id = len(df.loc[singlechain_interactions_with_swissprot_id_mask,:])"
   ]
  },
  {
   "cell_type": "code",
   "execution_count": 7,
   "metadata": {},
   "outputs": [
    {
     "data": {
      "text/plain": [
       "0.9533262698708022"
      ]
     },
     "execution_count": 7,
     "metadata": {},
     "output_type": "execute_result"
    }
   ],
   "source": [
    "num_singlechain_interactions/num_all_interactions"
   ]
  },
  {
   "cell_type": "code",
   "execution_count": 8,
   "metadata": {},
   "outputs": [
    {
     "data": {
      "text/plain": [
       "0.8723724424834056"
      ]
     },
     "execution_count": 8,
     "metadata": {},
     "output_type": "execute_result"
    }
   ],
   "source": [
    "num_singlechain_interactions_with_swissprot_id/num_all_interactions"
   ]
  },
  {
   "cell_type": "markdown",
   "metadata": {},
   "source": [
    "#### Analysis of the distribution of affiniy values to select a threshold\n",
    "it seems like that here the unit of Ki, Kd, and IC50 are in nanoMolar while in the literature, the thresholds (1, 10 , 30) are expressed in microMolar so we should use 1000,10000, 30000 but the following plot, which shows the distribuiton of kd, makes this unbelievable. But what can we do? we should go with what numbers say and assume that everything is correct."
   ]
  },
  {
   "cell_type": "code",
   "execution_count": 29,
   "metadata": {},
   "outputs": [
    {
     "data": {
      "image/png": "[encoded data removed]",
      "text/plain": [
       "<Figure size 432x288 with 1 Axes>"
      ]
     },
     "metadata": {
      "needs_background": "light"
     },
     "output_type": "display_data"
    }
   ],
   "source": [
    "import matplotlib.pyplot as plt\n",
    "vals = df[\"Kd (nM)\"].values[df[\"Kd (nM)\"]<100]\n",
    "plt.hist(vals,bins=100)\n",
    "plt.show()"
   ]
  },
  {
   "cell_type": "code",
   "execution_count": 3,
   "metadata": {},
   "outputs": [
    {
     "name": "stdout",
     "output_type": "stream",
     "text": [
      "number of rows with undecided binary interaction: 479039\n",
      "number of rows with conflicting binary interaction: 74\n"
     ]
    }
   ],
   "source": [
    "\n",
    "import numpy\n",
    "\n",
    "\n",
    "interaction_threshold = 1000\n",
    "noninteraction_threshold = 10000\n",
    "\n",
    "def valid_number(x):\n",
    "    try:\n",
    "        if type(x) == str:\n",
    "            x = x.replace(\">\",\"\")\n",
    "            x = x.replace(\"<\",\"\")\n",
    "            x = x.replace(\" \",\"\")\n",
    "        a  = float(x)\n",
    "        if a == 0:\n",
    "            return False\n",
    "        return a\n",
    "    except:\n",
    "        return False\n",
    "\n",
    "easy_df = df.loc[singlechain_interactions_with_swissprot_id_mask,:].copy()\n",
    "\n",
    "    \n",
    "bin_interaction = numpy.array([\"\"] * len (easy_df))\n",
    "\n",
    "Ki_col= easy_df[\"Ki (nM)\"].values \n",
    "Kd_col= easy_df[\"Ki (nM)\"].values \n",
    "IC50_col= easy_df[\"IC50 (nM)\"].values \n",
    "EC50_col= easy_df[\"EC50 (nM)\"].values \n",
    "\n",
    "conflict_rows = []\n",
    "incomplete_rows = []\n",
    "for i in range(len(easy_df)):\n",
    "    num_pdecisions = 0\n",
    "    num_ndecisions = 0\n",
    "    Ki = valid_number(Ki_col[i])\n",
    "    Kd = valid_number(Kd_col[i])\n",
    "    IC50 = valid_number(IC50_col[i])\n",
    "    EC50 = valid_number(EC50_col[i])\n",
    "\n",
    "        \n",
    "    if Ki:\n",
    "        if Ki < interaction_threshold:\n",
    "            bin_interaction[i] = True\n",
    "            num_pdecisions += 1\n",
    "        elif Ki> noninteraction_threshold:\n",
    "            bin_interaction[i] = False\n",
    "            num_ndecisions += 1\n",
    "    if Kd:\n",
    "        if Kd < interaction_threshold:\n",
    "            bin_interaction[i] = True\n",
    "            num_pdecisions += 1\n",
    "        elif Kd > noninteraction_threshold:\n",
    "            bin_interaction[i] = False\n",
    "            num_ndecisions += 1\n",
    "    if IC50:\n",
    "        if IC50 < interaction_threshold:\n",
    "            bin_interaction[i] = True\n",
    "            num_pdecisions += 1\n",
    "        elif IC50 > noninteraction_threshold:\n",
    "            bin_interaction[i] = False\n",
    "            num_ndecisions += 1\n",
    "    if EC50:\n",
    "        if EC50 < interaction_threshold:\n",
    "            bin_interaction[i] = True\n",
    "            num_pdecisions += 1\n",
    "        elif EC50> noninteraction_threshold:\n",
    "            bin_interaction[i] = False\n",
    "            num_ndecisions += 1\n",
    "    if (num_pdecisions>0) and (num_ndecisions>0) :\n",
    "        conflict_rows.append((i,num_pdecisions,num_ndecisions))\n",
    "        bin_interaction[i] = \"\"\n",
    "    if (num_ndecisions<1) and (num_pdecisions<1):\n",
    "        incomplete_rows.append(i)\n",
    "\n",
    "print(\"number of rows with undecided binary interaction:\", len(incomplete_rows))\n",
    "print(\"number of rows with conflicting binary interaction:\", len(conflict_rows))        \n"
   ]
  },
  {
   "cell_type": "code",
   "execution_count": 5,
   "metadata": {},
   "outputs": [],
   "source": [
    "easy_df[\"bin_interaction\"] = bin_interaction "
   ]
  },
  {
   "cell_type": "code",
   "execution_count": 6,
   "metadata": {},
   "outputs": [
    {
     "data": {
      "text/plain": [
       "T    1032157\n",
       "      479113\n",
       "F     300959\n",
       "Name: bin_interaction, dtype: int64"
      ]
     },
     "execution_count": 6,
     "metadata": {},
     "output_type": "execute_result"
    }
   ],
   "source": [
    "easy_df[\"bin_interaction\"].value_counts()"
   ]
  },
  {
   "cell_type": "code",
   "execution_count": 7,
   "metadata": {},
   "outputs": [],
   "source": [
    "easy_df_easy_bin = easy_df.loc[easy_df[\"bin_interaction\"] != \"\",[\"UniProt (SwissProt) Primary ID of Target Chain\",\"PubChem CID\",\"bin_interaction\"]].copy()"
   ]
  },
  {
   "cell_type": "code",
   "execution_count": 8,
   "metadata": {},
   "outputs": [],
   "source": [
    "target_uniprots  = easy_df_easy_bin[\"UniProt (SwissProt) Primary ID of Target Chain\"].values\n",
    "unique_target_uniprots  = set(target_uniprots)\n",
    "# with open(\"unique_uniprots.txt\", \"w\") as outf:\n",
    "#     outf.writelines(\"\\n\".join(unique_target_uniprots))"
   ]
  },
  {
   "cell_type": "code",
   "execution_count": 48,
   "metadata": {},
   "outputs": [],
   "source": [
    "\n",
    "#first we read the dataset and \n",
    "\n",
    "interacts = dict() # for each pair in the dataset (key),  it shows the annotations True/False (interaction/non-interaction) if it exists in the dataset. we basically store all dataset infromation here.\n",
    "uniprot_ids = set() # set of uniprot IDs for the purpose of collecting their pfam domain annotations\n",
    "drugsof= dict() # we want positive interactions for single domain proteins so we store them here to be readily available\n",
    "num_occurrance = dict()\n",
    "\n",
    "\n",
    "\n",
    "import pandas\n",
    "\n",
    "\n",
    "\n",
    "for index , row in easy_df_easy_bin.iterrows():\n",
    "    pid  = row[\"UniProt (SwissProt) Primary ID of Target Chain\"]\n",
    "    did  = row[\"PubChem CID\"]\n",
    "    interaction_exist  = row[\"bin_interaction\"]\n",
    "    uniprot_ids.add(pid)\n",
    "    if (pid,did) in interacts:\n",
    "        num_occurrance[(pid,did)] +=1\n",
    "    else:\n",
    "        interacts[(pid,did)] = interaction_exist\n",
    "        num_occurrance[(pid,did)] = 1\n",
    "        if interaction_exist == \"T\":\n",
    "            if (type(did)== str) and (type (pid)==str):\n",
    "                if pid in drugsof:\n",
    "                    drugsof[pid].add(did)\n",
    "                else:\n",
    "                    drugsof[pid] = set([did])\n",
    "        \n",
    "# with open (\"DTIPred/uniprotids.txt\", \"w\") as pf:\n",
    "#     pf.writelines(\"\\n\".join(uniprot_ids))\n",
    "    \n",
    "top_repetitions = sorted(num_occurrance.items(), key=lambda x: x[1], reverse=True)        \n",
    "        "
   ]
  },
  {
   "cell_type": "code",
   "execution_count": 49,
   "metadata": {},
   "outputs": [],
   "source": [
    "deletions = set()\n",
    "for k in interacts:\n",
    "    if (type(k[0])!=str or type(k[1]) !=str):\n",
    "        deletions.add(k)\n"
   ]
  },
  {
   "cell_type": "code",
   "execution_count": 50,
   "metadata": {},
   "outputs": [],
   "source": [
    "for i in deletions:\n",
    "    del interacts[i]\n"
   ]
  },
  {
   "cell_type": "code",
   "execution_count": 51,
   "metadata": {},
   "outputs": [
    {
     "data": {
      "text/plain": [
       "978169"
      ]
     },
     "execution_count": 51,
     "metadata": {},
     "output_type": "execute_result"
    }
   ],
   "source": [
    "len(interacts)"
   ]
  },
  {
   "cell_type": "code",
   "execution_count": 10,
   "metadata": {},
   "outputs": [],
   "source": [
    "# in this part, we do the exact same thing we did for the Coelho2016 dataset except with new data from bindingDB\n",
    "# we read the domain annotations we have downloaded from uniprot.\n",
    "\n",
    "import pandas\n",
    "\n",
    "def extract_items(field):\n",
    "    if \";\" not in field:\n",
    "        return []\n",
    "    else:\n",
    "        spl = field.split(\";\")\n",
    "        for s in spl:\n",
    "            if len(s) <=1:\n",
    "#                 print(s)\n",
    "                spl.remove(s)\n",
    "        return spl\n",
    "\n",
    "proteinswith = dict() #for each domain (pfam ID), this will store the set of proteins (uniprot IDs) that have this domain\n",
    "domainsof  = dict () #for each protein (uniprot ID), this will store the list of domains (pfam IDs) of that protein\n",
    "df = pandas.read_csv(\"temp/unique_uniprots_domains.tab\", sep = \"\\t\", converters={i: str for i in range(100)})\n",
    "\n",
    "for index , row in df.iterrows():\n",
    "    domain_field = row [\"Cross-reference (Pfam)\"]\n",
    "    pid = row[\"yourlist:M20210208A94466D2655679D1FD8953E075198DA843865FQ\"]    \n",
    "    if True: #conditions for considering a protien such as being human protein or being reviewed\n",
    "            domain_list = extract_items(domain_field)\n",
    "            domainsof[pid]= domain_list \n",
    "            for dom  in domain_list:\n",
    "                if dom in proteinswith:\n",
    "                    proteinswith[dom].append(pid)\n",
    "                else:\n",
    "                    proteinswith[dom]= [pid]\n",
    "        \n",
    "    \n",
    "num_domains = {x:len(domainsof[x]) for x in domainsof.keys()}\n",
    "one_domain = [x for x in domainsof.keys() if len(domainsof[x])==1]"
   ]
  },
  {
   "cell_type": "code",
   "execution_count": 11,
   "metadata": {},
   "outputs": [
    {
     "ename": "NameError",
     "evalue": "name 'drugsof' is not defined",
     "output_type": "error",
     "traceback": [
      "\u001b[0;31m---------------------------------------------------------------------------\u001b[0m",
      "\u001b[0;31mNameError\u001b[0m                                 Traceback (most recent call last)",
      "\u001b[0;32m<ipython-input-11-5b284ec4fec1>\u001b[0m in \u001b[0;36m<module>\u001b[0;34m\u001b[0m\n\u001b[1;32m     10\u001b[0m     \u001b[0;32mif\u001b[0m \u001b[0mp\u001b[0m \u001b[0;32min\u001b[0m \u001b[0mQ_set\u001b[0m\u001b[0;34m:\u001b[0m\u001b[0;34m\u001b[0m\u001b[0;34m\u001b[0m\u001b[0m\n\u001b[1;32m     11\u001b[0m         \u001b[0mQ_set\u001b[0m\u001b[0;34m.\u001b[0m\u001b[0mremove\u001b[0m\u001b[0;34m(\u001b[0m\u001b[0mp\u001b[0m\u001b[0;34m)\u001b[0m\u001b[0;34m\u001b[0m\u001b[0;34m\u001b[0m\u001b[0m\n\u001b[0;32m---> 12\u001b[0;31m     \u001b[0;32mif\u001b[0m \u001b[0mp\u001b[0m \u001b[0;32min\u001b[0m \u001b[0mdrugsof\u001b[0m\u001b[0;34m:\u001b[0m\u001b[0;34m\u001b[0m\u001b[0;34m\u001b[0m\u001b[0m\n\u001b[0m\u001b[1;32m     13\u001b[0m         \u001b[0mD_set\u001b[0m \u001b[0;34m=\u001b[0m \u001b[0mdrugsof\u001b[0m\u001b[0;34m[\u001b[0m\u001b[0mp\u001b[0m\u001b[0;34m]\u001b[0m\u001b[0;34m\u001b[0m\u001b[0;34m\u001b[0m\u001b[0m\n\u001b[1;32m     14\u001b[0m         \u001b[0;32mfor\u001b[0m \u001b[0md\u001b[0m \u001b[0;32min\u001b[0m \u001b[0mD_set\u001b[0m\u001b[0;34m:\u001b[0m\u001b[0;34m\u001b[0m\u001b[0;34m\u001b[0m\u001b[0m\n",
      "\u001b[0;31mNameError\u001b[0m: name 'drugsof' is not defined"
     ]
    }
   ],
   "source": [
    "\n",
    "# here we do the calculations, meaning we prepare the table consisting of pairs of single domain proteins (P) and interacting drugs (D) the number of proteins falling to each of the three groups and the ID of these proteins are stored in the next columns\n",
    "\n",
    "drug_level_examples = \"onedomain-protein,domain,interacting_drug,num_pos,num_neg,num_unk,pos,neg,unk\\n\"\n",
    "protein_level_exmples  = \"\"\n",
    "\n",
    "\n",
    "for p in one_domain:\n",
    "    m = domainsof[p][0]\n",
    "    Q_set = proteinswith[m].copy()\n",
    "    if p in Q_set:\n",
    "        Q_set.remove(p)        \n",
    "    if p in drugsof:\n",
    "        D_set = drugsof[p]\n",
    "        for d in D_set:\n",
    "            negs = []\n",
    "            pos = []\n",
    "            unk= []\n",
    "            for q in Q_set:\n",
    "                if type(q)== float:\n",
    "                    print(\"error-q:\", q)\n",
    "                if (q,d) in interacts:\n",
    "                    if interacts[(q,d)]==\"T\":\n",
    "                        pos.append(q)\n",
    "                    else:\n",
    "                        negs.append(q)\n",
    "                else:\n",
    "                    unk.append(q)\n",
    "            if (type(p) == float):\n",
    "                print(\"error-p:\", p)\n",
    "            if (type(m) == float):\n",
    "                print(\"error-m:\", m)\n",
    "            if (type(d) == float):\n",
    "                print(\"error-d:\", d)\n",
    "                \n",
    "            row_str= \",\".join ([p,m,d,str(len(pos)),str(len(negs)),str(len(unk)),\";\".join(pos), \";\".join(negs), \";\".join(unk)])+\"\\n\"\n",
    "            drug_level_examples += row_str\n",
    "            \n",
    "with open(\"result_drug_level.csv\",\"w\") as outf:\n",
    "    outf.writelines(drug_level_examples)\n",
    "    "
   ]
  },
  {
   "cell_type": "code",
   "execution_count": 7,
   "metadata": {},
   "outputs": [],
   "source": [
    "# a piece of code for checking and example\n",
    "# it takes a protein p and a protein q and a drug d and prints all rows with p and d and then all rows with q and d \n",
    "# the columns that we want are the \n",
    "p = \"P58154\"\n",
    "q = \"P09482\"\n",
    "d = \"86418\"\n",
    "useful_cols = [\"UniProt (SwissProt) Primary ID of Target Chain\",\"PubChem CID\",\"Ki (nM)\",\"Kd (nM)\",\"IC50 (nM)\",\"EC50 (nM)\",\"kon (M-1-s-1)\",\"koff (s-1)\",\"pH\",\"Temp (C)\"]\n",
    "\n",
    "##first print information about p \n",
    "p_rows = (df[\"UniProt (SwissProt) Primary ID of Target Chain\"]== p) & (df[\"PubChem CID\"]== d)\n",
    "first_row_number = numpy.nonzero(numpy.array(p_rows))[0]\n",
    "p_seq = df.loc[first_row_number,\"BindingDB Target Chain  Sequence\"].values[0]\n",
    "\n",
    "\n",
    "q_rows = (df[\"UniProt (SwissProt) Primary ID of Target Chain\"]== q) & (df[\"PubChem CID\"]== d)\n",
    "first_row_number = numpy.nonzero(numpy.array(q_rows))[0]\n",
    "q_seq = df.loc[first_row_number,\"BindingDB Target Chain  Sequence\"].values[0]\n",
    "\n",
    " \n"
   ]
  },
  {
   "cell_type": "code",
   "execution_count": 8,
   "metadata": {},
   "outputs": [
    {
     "name": "stdout",
     "output_type": "stream",
     "text": [
      "p: P58154\n",
      "MRRNIFCLACLWIVQACLSLDRADILYNIRQTSRPDVIPTQRDRPVAVSVSLKFINILEVNEITNEVDVVFWQQTTWSDRTLAWNSSHSPDQVSVPISSLWVPDLAAYNAISKPEVLTPQLARVVSDGEVLYMPSIRQRFSCDVSGVDTESGATCRIKIGSWTHHSREISVDPTTENSDDSEYFSQYSRFEILDVTQKKNSVTYSCCPEAYEDVEVSLNFRKKGRSEIL \n",
      "\n"
     ]
    },
    {
     "data": {
      "text/html": [
       "<div>\n",
       "<style scoped>\n",
       "    .dataframe tbody tr th:only-of-type {\n",
       "        vertical-align: middle;\n",
       "    }\n",
       "\n",
       "    .dataframe tbody tr th {\n",
       "        vertical-align: top;\n",
       "    }\n",
       "\n",
       "    .dataframe thead th {\n",
       "        text-align: right;\n",
       "    }\n",
       "</style>\n",
       "<table border=\"1\" class=\"dataframe\">\n",
       "  <thead>\n",
       "    <tr style=\"text-align: right;\">\n",
       "      <th></th>\n",
       "      <th>UniProt (SwissProt) Primary ID of Target Chain</th>\n",
       "      <th>PubChem CID</th>\n",
       "      <th>Ki (nM)</th>\n",
       "      <th>Kd (nM)</th>\n",
       "      <th>IC50 (nM)</th>\n",
       "      <th>EC50 (nM)</th>\n",
       "      <th>kon (M-1-s-1)</th>\n",
       "      <th>koff (s-1)</th>\n",
       "      <th>pH</th>\n",
       "      <th>Temp (C)</th>\n",
       "    </tr>\n",
       "  </thead>\n",
       "  <tbody>\n",
       "    <tr>\n",
       "      <th>2052064</th>\n",
       "      <td>P58154</td>\n",
       "      <td>86418</td>\n",
       "      <td>970</td>\n",
       "      <td>NaN</td>\n",
       "      <td>NaN</td>\n",
       "      <td>NaN</td>\n",
       "      <td>NaN</td>\n",
       "      <td>NaN</td>\n",
       "      <td>NaN</td>\n",
       "      <td>NaN</td>\n",
       "    </tr>\n",
       "  </tbody>\n",
       "</table>\n",
       "</div>"
      ],
      "text/plain": [
       "        UniProt (SwissProt) Primary ID of Target Chain PubChem CID Ki (nM)  \\\n",
       "2052064                                         P58154       86418     970   \n",
       "\n",
       "        Kd (nM) IC50 (nM) EC50 (nM) kon (M-1-s-1) koff (s-1)   pH Temp (C)  \n",
       "2052064     NaN       NaN       NaN           NaN        NaN  NaN      NaN  "
      ]
     },
     "execution_count": 8,
     "metadata": {},
     "output_type": "execute_result"
    }
   ],
   "source": [
    "print(\"p:\",p)\n",
    "print(p_seq,\"\\n\")\n",
    "df.loc[p_rows,useful_cols]"
   ]
  },
  {
   "cell_type": "code",
   "execution_count": 15,
   "metadata": {},
   "outputs": [
    {
     "name": "stdout",
     "output_type": "stream",
     "text": [
      "q: P09482\n",
      "MGFLVSKGNLLLLLCASIFPAFGHVETRAHAEERLLKKLFSGYNKWSRPVANISDVVLVRFGLSIAQLIDVDEKNQMMTTNVWVKQEWHDYKLRWDPQEYENVTSIRIPSELIWRPDIVLYNNADGDFAVTHLTKAHLFYDGRIKWMPPAIYKSSCSIDVTFFPFDQQNCKMKFGSWTYDKAKIDLVSMHSHVDQLDYWESGEWVIINAVGNYNSKKYECCTEIYPDITYSFIIRRLPLFYTINLIIPCLLISCLTVLVFYLPSECGEKITLCISVLLSLTVFLLLITEIIPSTSLVIPLIGEYLLFTMIFVTLSIIITVFVLNVHHRSPRTHTMPDWVRRVFLDIVPRLLFMKRPSTVKDNCKKLIESMHKLTNSPRLWSETDMEPNFTTSSSPSPQSNEPSPTSSFCAHLEEPAKPMCKSPSGQYSMLHPEPPQVTCSSPKPSCHPLSDTQTTSISKGRSLSVQQMYSPNKTEEGSIRCRSRSIQYCYLQEDSSQTNGHSSASPASQRCHLNEEQPQHKPHQCKCKCRKGEAAGTPTQGSKSHSNKGEHLVLMSPALKLAVEGVHYIADHLRAEDADFSVKEDWKYVAMVIDRIFLWMFIIVCLLGTVGLFLPPWLAGMI \n",
      "\n"
     ]
    }
   ],
   "source": [
    "print(\"q:\",q)\n",
    "print(q_seq,\"\\n\")\n",
    "st = df.loc[q_rows,useful_cols].to_markdown()"
   ]
  },
  {
   "cell_type": "markdown",
   "metadata": {},
   "source": [
    "alright, so here we want to list the pot"
   ]
  },
  {
   "cell_type": "code",
   "execution_count": 12,
   "metadata": {},
   "outputs": [
    {
     "data": {
      "text/plain": [
       "4973"
      ]
     },
     "execution_count": 12,
     "metadata": {},
     "output_type": "execute_result"
    }
   ],
   "source": [
    "len(unique_target_uniprots)"
   ]
  },
  {
   "cell_type": "code",
   "execution_count": null,
   "metadata": {},
   "outputs": [],
   "source": [
    "\n",
    "    \n",
    "    "
   ]
  },
  {
   "cell_type": "markdown",
   "metadata": {},
   "source": [
    "# TRASH BELOW"
   ]
  },
  {
   "cell_type": "code",
   "execution_count": 15,
   "metadata": {},
   "outputs": [
    {
     "name": "stdout",
     "output_type": "stream",
     "text": [
      "Downloading P53008,A0A144A2T4P24                                                                                                                                                                                                                                                                                                                                                                                                                                                                                                                                                                                                                                                                                                                                                                                                                                                                                                                                                                                                                                                                                                                                                                                                                                                                                                                                                                                                                                                                                                                                                                                                                                                                                                                                                                                                                                                                                                                                                                                                                                                                                                                                                                                                                                                                                                                                                                                                                                                                                                                                                                                                                                                                                                                                                                                                                                                                                                                                                                                                                                                                                                                                                                                                                                                                                                                                                                                                                                                                                                                                                                                                                                                                                                                                                                                                                                                                                                                                                                                                                                                                                                                                                                                                                                                                                                                                                                                                                                                                                                                                                                                                                                                                                                                                                                                                                                                                                                                                                                                                                                                                                                                                                                                                                                                                                                                                                                                                                                                                                                                                                                                                                                                                                                                                                                                                                                                                                                                                                                                                                                                                                                                                                                                                                                                                                                                                                                                                                                                                                                                                                                                                                                                                                                                                                                                                                                                                                                                                                                                                                                                                                                                                                                                                                                                                                                                                                                                                                                                                                                                                                                                                                                                                                                                                                                                                                                                                                                                                                                                                                                                                                                                                                                                                                                                                                                                                                                                                                                                                                                                                                                                                                                                                                                                                                                                                                                                                                                                                                                                                                                                                                                                                                                                                                                                                                                                                                                                                                                                                                                                                                                                                                                                                                                                                                                                                                                                                                                                                                                                                                                                                                                                                                                                                                                                                                                                                                                                                                                                                                                                                                                                                                                                                                                                                                                                                                                                                                                                                                                                                                                                                                                                                                                                                                                                                                                                                                                                                                                                                                                                                                                                                                                                                                                                                                                                                                                                                                                                                                                                                                                                                                                                                                                                                                                                                                                                                                                                                                                                                                                                                                                                                                                                                                                                                                                                                                                                                                                                                                                                                                                                                                                                                                                                                                                                                                                                                                                                                                                                                                                                                                                                                                                                                                                                                                                                                                                                                                                                                                                                                                                                                                                                                                                                                                                                                                                                                                                                                                                                                                                                                                                                                                                                                                                                                                                                                                                                                                                                                                                                                                                                                                                                                                                                                                                                                                                                                                                                                                                                                                                                                                                                                                                                                                                                                                                                                                                                                                                                                                                                                                                                                                                                                                                                                                                                                                                                                                                                                                                                                                                                                                                                                                                                                                                                                                                                                                                                                                                                                                                                                                                                                                                                                                                                                                                                                                                                                                                                                                                                                                                                                                                                                                                                                                                                                                                                                                                                                                                                                                                                                                                                                                                                                                                                                                                                                                                                                                                                                                                                                                                                                                                                                                                                                                                                                                                                                                                                                                                                                                                                                                                                                                                                                                                                                                                                                                                                                                                                                                                                                                                                                                                                                                                                                                                                                                                                                                                                                                                                                                                                                                                                                                                                                                                                                                                                                                                                                                                                                                                                                                                                                                                                                                                                                                                                                                                                                                                                                                                                                                                                                                                                                                                                                                                                                                                                                                                                                                                                                                                                                                                                                                                                                                                                                                                                                                                                                                                                                                                                                                                                                                                                                                                                                                                                                                                                                                                                                                                                                                                                                                                                                                                                                                                                                                                                                                                                                                                                                                                                                                                                                                                                                                                                                                                                                                                                                                                                                                                                                                                                                                                                                                                                                                                                                                                                                                                                                                                                                                                                                                                                                                                                                                                                                                                                                                                                                                                                                                                                                                                                                                                                                                                                                                                                                                                                                                                                                                                                                                                                                                                                                                                                                                                                                                                                                                                                                                                                                                                                                                                                                                                                                                                                                                                                                                                                                                                                                                                                                                                                                                                                                                                                                                                                                                                                                                                                                                                                                                                                                                                                                                                                                                                                                                                                                                                                                                                                                                                                                                                                                                                                                                                                                                                                                                                                                                                                                                                                                                                                                                                                                                                                                                                                                                                                                                                                                                                                                                                                                                                                                                                                                                                                                                                                                                                                                                                                                                                                                                                                                                                                                                                                                                                                                                                                                                                                                                                                                                                                                                                                                                                                                                                                                                                                                                                                                                                                                                                                                                                                                                                                                                                                                                                                                                                                                                                                                                                                                                                                                                                                                                                                                                                                                                                                                                                                                                                                                                                                                                                                                                                                                                                                                                                                                                                                                                                                                                                                                                                                                                                                                                                                                                                                                                                                                                                                                                                                                                                                                                                                                                                                                                                                                                                                                                                                                                                                                                                                                                                                                                                                                                                                                                                                                                                                                                                                                                                                                                                                                                                                                                                                                                                                                                                                                                                                                                                                                                                                                                                                                                                                                                                                                                                                                                                                                                                                                                                                                                                                                                                                                                                                                                                                                                                                                                                                                                                                                                                                                                                                                                                                                                                                                                                                                                                                                                                                                                                                                                                                                                                                                                                                                                                                                                                                                                                                                                                                                                                                                                                                                                                                                                                                                                                                                                                                                                                                                                                                                                                                                                                                                                                                                                                                                                                                                                                                                                                                                                                                                                                                                                                                                                                                                                                                                                                                                                                                                                                                                                                                                                                                                                                                                                                                                                                                                                                                                                                                                                                                                                                                                                                                                                                                                                                                                                                                                                                                                                                                                                                                                                                                                                                                                                                                                                                                                                                                                                                                                                                                                                                                                                                                                                                                                                                                                                                                                                                                                                                                                                                                                                                                                                                                                                                                                                                                                                                                                                                                                                                                                                                                                                                                                                                                                                                                                                                                                                                                                                                                                                                                                                                                                                                                                                                                                                                                                                                                                                                                                                                                                                                                                                                                                                                                                                                                                                                                                                                                                                                                                                                                                                                                                                                                                                                                                                                                                                                                                                                                                                                                                                                                                                                                                                                                                                                                                                                                                                                                                                                                                                                                                                                                                                                                                                                                                                                                                                                                                                                                                                                                                                                                                                                                                                                                                                                                                                                                                                                                                                                                                                                                                                                                                                                                                                                                                                                                                                                                                                                                                                                                                                                                                                                                                                                                                                                                                                                                                                                                                                                                                                                                                                                                                                                                                                                                                                                                                                                                                                                                                                                                                                                                                                                                                                                                                                                                                                                                                                                                                                                                                                                                                                                                                                                                                                                                                                                                                                                                                                                                                                                                                                                                                                                                                                                                                                                                                                                                                                                                                                                                                                                                                                                                                                                                                                                                                                                                                                                                                                                                                                                                                                                                                                                                                                                                                                                                                                                                                                                                                                                                                                                                                                                                                                                                                                                                                                                                                                                                                                                                                                                                                                                                                                                                                                                                                                                                                                                                                                                                                                                                                                                                                                                                                                                                                                                                                                                                                                                                                                                                                                                                                                                                                                                                                                                                                                                                                                                                                                                                                                                                                                                                                                                                                                                                                                                                                                                                                                                                                                                                                                                                                                                                                                                                                                                                                                                                                                                                                                                                                                                                                                                                                                                                                                                                                                                                                                                                                                                                                                                                                                                                                                                                                                                                                                                                                                                                                                                                                                                                                                                                                                                                                                                                                                                                                                                                                                                                                                                                                                                                                                                                                                                                                                                                                                                                                                                                                                                                                                                                                                                                                                                                                                                                                                                                                                                                                                                                                                                                                                                                                                                                                                                                                                                                                                                                                                                                                                                                                                                                                                                                                                                                                                                                                                                                                                                                                                                                                                                                                                                                                                                                                                                                                                                                                                                                                                                                                                                                                                                                                                                                                                                                                                                                                                                                                                                                                                                                                                                                                                                                                                                                                                                                                                                                                                                                                                                                                                                                                                                                                                                                                                                                                                                                                                                                                                                                                                                                                                                                                                                                                                                                                                                                                                                                                                                                                                                                                                                                                                                                                                                                                                                                                                                                                                                                                                                                                                                                                                                                                                                                                                                                                                                                                                                                                                                                                                                                                                                                                                                                                                                                                                                                                                                                                                                                                                                                                                                                                                                                                                                                                                                                                                                                                                                                                                                                                                                                                                                                                                                                                                                                                                                                                                                                                                                                                                                                                                                                                                                                                                                                                                                                                                                                                                                                                                                                                                                                                                                                                                                                                                                                                                                                                                                                                                                                                                                                                                                                                                                                                                                                                                                                                                                                                                                                                                                                                                                                                                                                                                                                                                                                                                                                                                                                                                                                                                                                                                                                                                                                                                                                                                                                                                                                                                                                                                                                                                                                                                                                                                                                                                                                                                                                                                                                                                                                                                                                                                                                                                                                                                                                                                                                                                                                                                                                                                                                                                                                                                                                                                                                                                                                                                                                                                                                                                                                                                                                                                                                                                                                                                                                                                                                                                                                                                                                                                                                                                                                                                                                                                                                                                                                                                                                                                                                                                                                                                                                                                                                                                                                                                                                                                                                                                                                                                                                                                                                                                                                                                                                                                                                                                                                                                                                                                                                                                                                                                                                                                                                                                                                                                                                                                                                                                                                                                                                                                                                                                                                                                                                                                                                                                                                                                                                                                                                                                                                                                                                                                                                                                                                                                                                                                                                                                                                                                                                                                                                                                                                                                                                                                                                                                                                                                                                                                                                                                                                                                                                                                                                                                                                                                                                                                                                                                                                                                                                                                                                                                                                                                                                                                                                                                                                                                                                                                                                                                                                                                                                                                                                                                                                                                                                                                                                                                                                                                                                                                                                                                                                                                                                                                                                                                                                                                                                                                                                                                                                                                                                                                                                                                                                                                                                                                                                                                                                                                                                                                                                                                                                                                                                                                                                                                                                                                                                                                                                                                                                                                                                                                                                                                                                                                                                                                                                                                                                                                                                                                                                                                                                                                                                                                                                                                                                                                                                                                                                                                                                                                                                                                                                                                                                                                                                                                                                                                                                                                                                                                                                                                                                                                                                                                                                                                                                                                                                                                                                                                                                                                                                                                                                                                                                                                                                                                                                                                                                                                                                                                                                                                                                                                                                                                                                                                                                                                                                                                                                                                                                                                                                                                                                                                                                                                                                                                                                                                                                                                                                                                                                                                                                                                                                                                                                                                                                                                                                                                                                                                                                                                                                                                                                                                                                                                                                                                                                                                                                                                                                                                                                                                                                                                                                                                                                                                                                                                                                                                                                                                                                                                                                                                                                                                                                                                                                                                                                                                                                                                                                                                                                                                                                                                                                                                                                                                                                                                                                                                                                                                                                                                                                                                                                                                                                                                                                                                                                                                                                                                                                                                                                                                                                                                                                                                                                                                                                                                                                                                                                                                                                                                                                                                                                                                                                                                                                                                                                                                                                                                                                                                                                                                                                                                                                                                                                                                                                                                                                                                                                                                                                                                                                                                                                                                                                                                                                                                                                                                                                                                                                                                                                                                                                                                                                                                                                                                                                                                                                                                                                                                                                                                                                                                                                                                                                                                                                                                                                                                                                                                                                                                                                                                                                                                                                                                                                                                                                                                                                                                                                                                                                                                                                                                                                                                                                                                                                                                                                                                                                                                                                                                                                                                                                                                                                                                                                                                                                                                                                                                                                                                                                                                                                                                                                                                                                                                                                                                                                                                                                                                                                                                                                                                                                                                                                                                                                                                                                                                                                                                                                                                                                                                                                                                                                                                                                                                                                                                                                                                                                                                                                                                                                                                                                                                                                                                                                                                                                                                                                                                                                                                                                                                                                                                                                                                                                                                                                                                                                                                                                                                                                                                                                                                                                                                                                                                                                                                                                                                                                                                                                                                                                                                                                                                                                                                                                                                                                                                                                                                                                                                                                                                                                                                                                                                                                                                                                                                                                                                                                                                                                                                                                                                                                                                                                                                                                                                                                                                                                                                                                                                                                                                                                                                                                                                                                                                                                                                                                                                                                                                                                                                                                                                                                                                                                                                                                                                                                                                                                                                                                                                                                                                                                                                                                                                                                                                                                                                                                                                                                                                                                                                                                                                                                                                                                                                                                                                                                                                                                                                                                                                                                                                                                                                                                                                                                                                                                                                                                                                                                                                                                                                                                                                                                                                                                                                                                                                                                                                                                                                                                                                                                                                                                                                                                                                                                                                                                                                                                                                                                                                                                                                                                                                                                                                                                                                                                                                                                                                                                                                                                                                                                                                                                                                                                                                                                                                                                                                                                                                                                                                                                                                                                                                                                                                                                                                                                                                                                                                                                                                                                                                                                                                                                                                                                                                                                                                                                                                                                                                                                                                                                                                                                                                                                                                                                                                                                                                                                                                                                                                                                                                                                                                                                                                                                                                                                                                                                                                                                                                                                                                                                                                                                                                                                                                                                                                                                                                                                                                                                                                                                                                                                                                                                                                                                                                                                                                                                                                                                                                                                                                                                                                                                                                                                                                                                                                                                                                                                                                                                                                                                                                                                                                                                                                                                                                                                                                                                                                                                                                                                                                                                                                                                                                                                                                                                                                                                                                                                                                                                                                                                                                                                                                                                                                                                                                                                                                                                                                                                                                                                                                                                                                                                                                                                                                                                                                                                                                                                                                                                                                                                                                                                                                                                                                                                                                                                                                                                                                                                                                                                                                                                                                                                                                                                                                                                                                                                                                                                                                                                                                                                                                                                                                                                                                                                                                                                                                                                                                                                                                                                                                                                                                                                                                                                                                                                                                                                                                                                                                                                                                                                                                                                                                                                                                                                                                                                                                                                                                                                                                                                                                                                                                                                                                                                                                                                                                                                                                                                                                                                                                                                                                                                                                                                                                                                                                                                                                                                                                                                                                                                                                                                                                                                                                                                                                                                                                                                                                                                                                                                                                                                                                                                                                                                                                                                                                                                                                                                                                                                                                                                                                                                                                                                                                                                                                                                                                                                                                                                                                                                                                                                                                                                                                                                                                                                                                                                                                                                                                                                                                                                                                                                                                                                                                                                                                                                                                                                                                                                                                                                                                                                                                                                                                                                                                                                                                                                                                                                                                                                                                                                                                                                                                                                                                                                                                                                                                                                                                                                                                                                                                                                                                                                                                                                                                                                                                                                                                                                                                                                                                                                                                                                                                                                                                                                                                                                                                                                                                                                                                                                                                                                                                                                                                                                                                                                                                                                                                                                                                                                                                                                                                                                                                                                                                                                                                                                                                                                                                                                                                                                                                                                                                                                                                                                                                                                                                                                                                                                                                                                                                                                                                                                                                                                                                                                                                                                                                                                                                                                                                                                                                                                                                                                                                                                                                                                                                                                                                                                                                                                                                                                                                                                                                                                                                                                                                                                                                                                                                                                                                                                                                                                                                                                                                                                                                                                                                                                                                                                                                                                                                                                                                                                                                                                                                                                                                                                                                                                                                                                                                                                                                                                                                                                                                                                                                                                                                                                                                                                                                                                                                                                                                                                                                                                                                                                                                                                                                                                                                                                                                                                                                                                                                                                                                                                                                                                                                                                                                                                                                                                                                                                                                                                                                                                                                                                                                                                                                                                                                                                                                                                                                                                                                                                                                                                                                                                                                                                                                                                                                                                                                                                                                                                                                                                                                                                                                                                                                                                                                                                                                                                                                                                                                                                                                                                                                                                                                                                                                                                                                                                                                                                                                                                                                                                                                                                                                                                                                                                                                                                                                                                                                                                                                                                                                                                                                                                                                                                                                                                                                                                                                                                                                                                                                                                                                                                                                                                                                                                                                                                                                                                                                                                                                                                                                                                                                                                                                                                                                                                                                                                                                                                                                                                                                                                                                                                                                                                                                                                                                                                                                                                                                                                                                                                                                                                                                                                                                                                                                                                                                                                                                                                                                                                                                                                                                                                                                                                                                                                                                                                                                                                                                                                                                                                                                                                                                                                                                                                                                                                                                                                                                                                                                                                                                                                                                                                                                                                                                                                                                                                                                                                                                                                                                                                                                                                                                                                                                                                                                                                                                                                                                                                                                                                                                                                                                                                                                                                                                                                                                                                                                                                                                                                                                                                                                                                                                                                                                                                                                                                                                                                                                                                                                                                                                                                                                                                                                                                                                                                                                                                                                                                                                                                                                                                                                                                                                                                                                                                                                                                                                                                                                                                                                                                                                                                                                                                                                                                                                                                                                                                                                                                                                                                                                                                                                                                                                                                                                                                                                                                                                                                                                                                                                                                                                                                                                                                                                                                                                                                                                                                                                                                                                                                                                                                                                                                                                                                                                                                                                                                                                                                                                                                                                                                                                                                                                                                                                                                                                                                                                                                                                                                                                                                                                                                                                                                                                                                                                                           "
     ]
    }
   ],
   "source": [
    "import xml.etree.ElementTree as ET\n",
    "import requests\n",
    "template = 'http://pfam.xfam.org/protein/P09482?output=xml'\n",
    "\n",
    "for prot in unique_target_uniprots:\n",
    "    print(\"                       \\r\"+\"Downloading \"+prot, end  =\"\")\n",
    "    url = \"http://pfam.xfam.org/protein/\"+prot+\"?output=xml\"\n",
    "    req = requests.get(url)\n",
    "    with open (\"temp/domain_details/\"+prot+\".xml\",\"w\") as outf:\n",
    "        outf.writelines(req.text)\n",
    "    "
   ]
  },
  {
   "cell_type": "code",
   "execution_count": 122,
   "metadata": {},
   "outputs": [],
   "source": []
  },
  {
   "cell_type": "code",
   "execution_count": 123,
   "metadata": {},
   "outputs": [
    {
     "name": "stderr",
     "output_type": "stream",
     "text": [
      "<ipython-input-122-164c03218a96>:2: DeprecationWarning: This method will be removed in future versions.  Use 'list(elem)' or iteration over elem instead.\n",
      "  d = {t.tag : map(etree_to_dict, t.getchildren())}\n"
     ]
    }
   ],
   "source": [
    "import xml.etree.ElementTree as ET\n",
    "tree = ET.fromstring(req.text)\n",
    "# root.getchildren()\n",
    "# for child in root.iter(\"https://pfam.xfam.org/}pfam\"):\n",
    "#     print(child.tag,  child.text)\n",
    "dd = etree_to_dict(tree)"
   ]
  },
  {
   "cell_type": "code",
   "execution_count": null,
   "metadata": {},
   "outputs": [],
   "source": []
  },
  {
   "cell_type": "code",
   "execution_count": null,
   "metadata": {},
   "outputs": [],
   "source": []
  },
  {
   "cell_type": "code",
   "execution_count": null,
   "metadata": {},
   "outputs": [],
   "source": []
  },
  {
   "cell_type": "code",
   "execution_count": null,
   "metadata": {},
   "outputs": [],
   "source": []
  },
  {
   "cell_type": "code",
   "execution_count": 99,
   "metadata": {},
   "outputs": [
    {
     "name": "stdout",
     "output_type": "stream",
     "text": [
      "{https://pfam.xfam.org/}match {'accession': 'PF02931', 'id': 'Neur_chan_LBD', 'type': 'Pfam-A'}\n",
      "{https://pfam.xfam.org/}match {'accession': 'PF02932', 'id': 'Neur_chan_memb', 'type': 'Pfam-A'}\n"
     ]
    }
   ],
   "source": [
    "for node in root.findall(\".//{https://pfam.xfam.org/}match\"):\n",
    "    print(node.tag, node.attrib)"
   ]
  },
  {
   "cell_type": "code",
   "execution_count": 1,
   "metadata": {},
   "outputs": [],
   "source": [
    "import pandas\n",
    "\n",
    "def extract_items(field):\n",
    "    if \";\" not in field:\n",
    "        return []\n",
    "    else:\n",
    "        spl = field.split(\";\")\n",
    "        for s in spl:\n",
    "            if len(s) <=1:\n",
    "#                 print(s)\n",
    "                spl.remove(s)\n",
    "        return spl\n",
    "                \n",
    "    \n",
    "            \n",
    "    \n",
    "\n",
    "df = pandas.read_csv(\"uniprot.tab\", sep =\"\\t\",dtype=str)\n",
    "\n",
    "n_rows, n_cols  = df.shape\n",
    "\n",
    "uniprot_ids = df[\"Entry\"]\n",
    "pfam_ids = df[\"Cross-reference (Pfam)\"].astype(str).values\n",
    "chembl_ids = df[\"Cross-reference (ChEMBL)\"].astype(str).values\n",
    "\n",
    "domain_count = dict()\n",
    "drug_count = dict()\n",
    "\n",
    "\n",
    "for i in range (n_rows):\n",
    "    domain_list = extract_items(pfam_ids[i])\n",
    "    drug_list = extract_items(chembl_ids[i])\n",
    "    for dom in domain_list:\n",
    "        if dom in domain_count:\n",
    "            domain_count[dom] += 1\n",
    "        else:\n",
    "            domain_count[dom] = 1\n",
    "    \n",
    "    for drug in drug_list:\n",
    "        if drug in drug_count:\n",
    "            drug_count[drug] += 1\n",
    "        else:\n",
    "            drug_count[drug] = 1\n",
    "            \n",
    "    "
   ]
  },
  {
   "cell_type": "markdown",
   "metadata": {},
   "source": [
    "### Mapping human proteins to pfam domains and DrugBank drugs\n",
    "this allows us to study the prevalence of mullti-domain prorteins. Each multi-domain protein is a case where the problem two can happen. \n"
   ]
  },
  {
   "cell_type": "markdown",
   "metadata": {},
   "source": [
    "The above scripts allows us to count for each domain the number of proteins that have that domain\n",
    "we will follow the rest of the job later but for now we focus on the approach where affinity data are used for considering true negative interactinos."
   ]
  },
  {
   "cell_type": "code",
   "execution_count": 1,
   "metadata": {},
   "outputs": [
    {
     "name": "stdout",
     "output_type": "stream",
     "text": [
      "data  initial_experiments.ipynb  outputs  README.md  temp\n"
     ]
    }
   ],
   "source": [
    "!ls"
   ]
  },
  {
   "cell_type": "markdown",
   "metadata": {},
   "source": [
    "952161## Studying the first problem\n",
    "for this, we want to collect all human proteins and thier interactions, and look at all single-domain proteins and see the support and confidence for  association between domains and interactions. For a certain domain $\\text{M}$, the support will be the the fraction of human proteins that have domain $M$ and the confidene for a drug $D$ will be:\n",
    "\n",
    "$$ \\frac{\\text{Number of proteins that have $M$ and interact with $D$}}{\\text{Number of proteins with $M$}} $$"
   ]
  },
  {
   "cell_type": "markdown",
   "metadata": {},
   "source": [
    "### Using negative interactions to find examples of problem one\n",
    "\n",
    "Here we use a dataset from the [paper](https://doi.org/10.1371/journal.pcbi.1005219). In this paper they have used BindingDB and BioLIP to build a dataset of both positive and negative interactions between proteins and drugs. An affinity threshold have been used to consider them negative.\n",
    "\n",
    "After having negative interactions we need to find the cases where a drug interacts with a protein with only domain M but it doesn't interact with the many other proteins that have domain M \n",
    "\n",
    "to find these examples we devise an algorithm:\n",
    "\n",
    "   \n",
    "    for each domain M:\n",
    "        find all proteins that only have M as their domain and put them in set P\n",
    "        D = {}\n",
    "        for each protein p in P:\n",
    "            add to D all drugs that ineract with P\n",
    "        //on paper, since domain M interacts with all drugs in D, then all proteins with M should also interact with all drugs in D\n",
    "        for each drug d in D:\n",
    "        if any of the proteins Q in NEG(d) has domain D then save them save (p, M, q) in the set of couter examples\n",
    "\n",
    "\n",
    "so for this we need to have set of all domains and sort them based on frequency. \n",
    "for each domain we need all of the proteins that have it and for each protein \n",
    "            \n",
    "            \n",
    "        \n",
    "\n"
   ]
  }
 ],
 "metadata": {
  "kernelspec": {
   "display_name": "Python 3",
   "language": "python",
   "name": "python3"
  },
  "language_info": {
   "codemirror_mode": {
    "name": "ipython",
    "version": 3
   },
   "file_extension": ".py",
   "mimetype": "text/x-python",
   "name": "python",
   "nbconvert_exporter": "python",
   "pygments_lexer": "ipython3",
   "version": "3.8.5"
  }
 },
 "nbformat": 4,
 "nbformat_minor": 4
}
